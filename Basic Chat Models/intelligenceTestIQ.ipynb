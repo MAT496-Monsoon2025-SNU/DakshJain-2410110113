{
 "cells": [
  {
   "cell_type": "code",
   "execution_count": null,
   "id": "765c8d27",
   "metadata": {},
   "outputs": [],
   "source": [
    "from dotenv import load_dotenv\n",
    "load_dotenv()"
   ]
  },
  {
   "cell_type": "code",
   "execution_count": 2,
   "id": "af9fa1ac",
   "metadata": {},
   "outputs": [],
   "source": [
    "from langchain.chat_models import init_chat_model\n",
    "from langchain_core.messages import HumanMessage, SystemMessage"
   ]
  },
  {
   "cell_type": "code",
   "execution_count": 3,
   "id": "84699f17",
   "metadata": {},
   "outputs": [],
   "source": [
    "model1 = init_chat_model(\"llama-3.3-70b-versatile\", model_provider=\"groq\")\n",
    "model2 = init_chat_model(\"openai/gpt-oss-120b\", model_provider=\"groq\")"
   ]
  },
  {
   "cell_type": "code",
   "execution_count": null,
   "id": "2ef07726",
   "metadata": {},
   "outputs": [],
   "source": [
    "question = [\n",
    "    SystemMessage(\"You are a professional IQ test creator.\"),\n",
    "    HumanMessage(\"Ask 3 questions to test someone's IQ.\"),\n",
    "]\n",
    "q = model1.invoke(question)\n",
    "print(q.content)\n",
    "\n",
    "answer = [\n",
    "    SystemMessage(\"You will be provided with 3 questions to solve, only give the final answers to the questions.\"),\n",
    "    HumanMessage(q.content)\n",
    "]\n",
    "a = model2.invoke(answer)"
   ]
  },
  {
   "cell_type": "code",
   "execution_count": null,
   "id": "df8bf12f",
   "metadata": {},
   "outputs": [],
   "source": [
    "print(a.content)\n",
    "\n",
    "eval = [\n",
    "    SystemMessage(\"Estimate the IQ from these responses. Only give a numeric value of the IQ you estimate.\"),\n",
    "    HumanMessage(a.content)\n",
    "]\n",
    "print(\"\\n\", model1.invoke(eval).content)\n"
   ]
  }
 ],
 "metadata": {
  "kernelspec": {
   "display_name": ".venv (3.13.5)",
   "language": "python",
   "name": "python3"
  },
  "language_info": {
   "codemirror_mode": {
    "name": "ipython",
    "version": 3
   },
   "file_extension": ".py",
   "mimetype": "text/x-python",
   "name": "python",
   "nbconvert_exporter": "python",
   "pygments_lexer": "ipython3",
   "version": "3.13.5"
  }
 },
 "nbformat": 4,
 "nbformat_minor": 5
}
