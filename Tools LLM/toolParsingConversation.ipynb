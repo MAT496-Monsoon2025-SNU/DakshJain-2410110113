{
 "cells": [
  {
   "cell_type": "code",
   "execution_count": 1,
   "id": "8cf11c47",
   "metadata": {},
   "outputs": [
    {
     "data": {
      "text/plain": [
       "True"
      ]
     },
     "execution_count": 1,
     "metadata": {},
     "output_type": "execute_result"
    }
   ],
   "source": [
    "from dotenv import load_dotenv\n",
    "load_dotenv(override=True)"
   ]
  },
  {
   "cell_type": "markdown",
   "id": "4c616bc7",
   "metadata": {},
   "source": [
    "# Learning to have conversation with LLM"
   ]
  },
  {
   "cell_type": "code",
   "execution_count": 2,
   "id": "f89a6d9b",
   "metadata": {},
   "outputs": [],
   "source": [
    "# pick a model\n",
    "from langchain.chat_models import init_chat_model\n",
    "llm = init_chat_model(\"llama-3.3-70b-versatile\", model_provider=\"groq\")"
   ]
  },
  {
   "cell_type": "markdown",
   "id": "37126d86",
   "metadata": {},
   "source": [
    "### Create your tools"
   ]
  },
  {
   "cell_type": "code",
   "execution_count": 3,
   "id": "63524d6c",
   "metadata": {},
   "outputs": [],
   "source": [
    "from langchain_core.tools import tool\n",
    "\n",
    "@tool\n",
    "def laugh() -> str:\n",
    "    \"\"\" Call this tool if the mood is funny\"\"\"\n",
    "    return \"HAHAHAHAHAH\"\n",
    "\n",
    "\n",
    "@tool\n",
    "def sad() -> str:\n",
    "    \"\"\" Call this tool if you want to show sad, depressed, or negative feelings\"\"\"\n",
    "    return \"I am sad\"\n",
    "\n",
    "\n",
    "@tool\n",
    "def happy() -> str:\n",
    "    \"\"\" Call this tool if you want to show happiness or positive feeling\"\"\"\n",
    "    return \"I am happy\"\n",
    "\n",
    "\n",
    "@tool\n",
    "def angry() -> str:\n",
    "    \"\"\"Call this tool if you want to show anger or frustration\"\"\"\n",
    "    return \"I am pissed off\"\n",
    "\n",
    "\n",
    "@tool\n",
    "def afraid() -> str:\n",
    "    \"\"\"Call this tool if you want to show fear or anxiety\"\"\"\n",
    "    return \"I am scared\"\n",
    "\n",
    "\n",
    "@tool\n",
    "def disgusted() -> str:\n",
    "    \"\"\"Call this tool if you want to show disgust or disapproval\"\"\"\n",
    "    return \"I am disgusted\"\n"
   ]
  },
  {
   "cell_type": "code",
   "execution_count": 4,
   "id": "97bf49be",
   "metadata": {},
   "outputs": [],
   "source": [
    "tools_list = [laugh, sad, happy, angry, afraid, disgusted]\n",
    "tools_dict = {t.name: t for t in tools_list} # comes in handy at the time of invokation"
   ]
  },
  {
   "cell_type": "code",
   "execution_count": 5,
   "id": "55e761b0",
   "metadata": {},
   "outputs": [],
   "source": [
    "# we create a tool calling Agent by binding a list of tools to the llm\n",
    "llm_with_tools = llm.bind_tools(tools_list)"
   ]
  },
  {
   "cell_type": "code",
   "execution_count": 6,
   "id": "95042e48",
   "metadata": {},
   "outputs": [],
   "source": [
    "from langchain_core.messages import HumanMessage, SystemMessage, AIMessage, ToolMessage\n",
    "\n",
    "# This will store all converation\n",
    "chat_history = [\n",
    "    SystemMessage(content=\"You are a bot with emotions. Depending on the conversation, either respond the question, or show happy or sad emotions, or laugh with the situation\")\n",
    "    ]"
   ]
  },
  {
   "cell_type": "code",
   "execution_count": 7,
   "id": "bbabc17b",
   "metadata": {},
   "outputs": [
    {
     "data": {
      "text/plain": [
       "AIMessage(content='', additional_kwargs={'tool_calls': [{'id': '73rey5y06', 'function': {'arguments': 'null', 'name': 'disgusted'}, 'type': 'function'}]}, response_metadata={'token_usage': {'completion_tokens': 10, 'prompt_tokens': 516, 'total_tokens': 526, 'completion_time': 0.041346433, 'prompt_time': 0.042482073, 'queue_time': 0.045435937, 'total_time': 0.083828506}, 'model_name': 'llama-3.3-70b-versatile', 'system_fingerprint': 'fp_155ab82e98', 'service_tier': 'on_demand', 'finish_reason': 'tool_calls', 'logprobs': None}, id='run--98e5214f-5d4a-4469-8691-7dc1c1441865-0', tool_calls=[{'name': 'disgusted', 'args': {}, 'id': '73rey5y06', 'type': 'tool_call'}], usage_metadata={'input_tokens': 516, 'output_tokens': 10, 'total_tokens': 526})"
      ]
     },
     "execution_count": 7,
     "metadata": {},
     "output_type": "execute_result"
    }
   ],
   "source": [
    "chat_history.append(HumanMessage(content=\"I saw someone stomping on dog shit today.\"))\n",
    "\n",
    "response = llm_with_tools.invoke(chat_history)\n",
    "response"
   ]
  },
  {
   "cell_type": "code",
   "execution_count": 8,
   "id": "99a1a01a",
   "metadata": {},
   "outputs": [
    {
     "data": {
      "text/plain": [
       "[SystemMessage(content='You are a bot with emotions. Depending on the conversation, either respond the question, or show happy or sad emotions, or laugh with the situation', additional_kwargs={}, response_metadata={}),\n",
       " HumanMessage(content='I saw someone stomping on dog shit today.', additional_kwargs={}, response_metadata={}),\n",
       " AIMessage(content='', additional_kwargs={'tool_calls': [{'id': '73rey5y06', 'function': {'arguments': 'null', 'name': 'disgusted'}, 'type': 'function'}]}, response_metadata={'token_usage': {'completion_tokens': 10, 'prompt_tokens': 516, 'total_tokens': 526, 'completion_time': 0.041346433, 'prompt_time': 0.042482073, 'queue_time': 0.045435937, 'total_time': 0.083828506}, 'model_name': 'llama-3.3-70b-versatile', 'system_fingerprint': 'fp_155ab82e98', 'service_tier': 'on_demand', 'finish_reason': 'tool_calls', 'logprobs': None}, id='run--98e5214f-5d4a-4469-8691-7dc1c1441865-0', tool_calls=[{'name': 'disgusted', 'args': {}, 'id': '73rey5y06', 'type': 'tool_call'}], usage_metadata={'input_tokens': 516, 'output_tokens': 10, 'total_tokens': 526})]"
      ]
     },
     "execution_count": 8,
     "metadata": {},
     "output_type": "execute_result"
    }
   ],
   "source": [
    "chat_history.append(response)\n",
    "chat_history"
   ]
  },
  {
   "cell_type": "code",
   "execution_count": 9,
   "id": "dcaa5020",
   "metadata": {},
   "outputs": [
    {
     "data": {
      "text/plain": [
       "[SystemMessage(content='You are a bot with emotions. Depending on the conversation, either respond the question, or show happy or sad emotions, or laugh with the situation', additional_kwargs={}, response_metadata={}),\n",
       " HumanMessage(content='I saw someone stomping on dog shit today.', additional_kwargs={}, response_metadata={}),\n",
       " AIMessage(content='', additional_kwargs={'tool_calls': [{'id': '73rey5y06', 'function': {'arguments': 'null', 'name': 'disgusted'}, 'type': 'function'}]}, response_metadata={'token_usage': {'completion_tokens': 10, 'prompt_tokens': 516, 'total_tokens': 526, 'completion_time': 0.041346433, 'prompt_time': 0.042482073, 'queue_time': 0.045435937, 'total_time': 0.083828506}, 'model_name': 'llama-3.3-70b-versatile', 'system_fingerprint': 'fp_155ab82e98', 'service_tier': 'on_demand', 'finish_reason': 'tool_calls', 'logprobs': None}, id='run--98e5214f-5d4a-4469-8691-7dc1c1441865-0', tool_calls=[{'name': 'disgusted', 'args': {}, 'id': '73rey5y06', 'type': 'tool_call'}], usage_metadata={'input_tokens': 516, 'output_tokens': 10, 'total_tokens': 526}),\n",
       " ToolMessage(content='I am disgusted', name='disgusted', tool_call_id='73rey5y06')]"
      ]
     },
     "execution_count": 9,
     "metadata": {},
     "output_type": "execute_result"
    }
   ],
   "source": [
    "# Since there was a tool call, execute the tool and append the tool output in the converation\n",
    "\n",
    "chat_history.append(tools_dict[response.tool_calls[0][\"name\"]].invoke(response.tool_calls[0]))\n",
    "chat_history"
   ]
  },
  {
   "cell_type": "code",
   "execution_count": 10,
   "id": "1a6ac75f",
   "metadata": {},
   "outputs": [
    {
     "data": {
      "text/plain": [
       "AIMessage(content='', additional_kwargs={'tool_calls': [{'id': 'd7r2r5jvp', 'function': {'arguments': '{}', 'name': 'happy'}, 'type': 'function'}]}, response_metadata={'token_usage': {'completion_tokens': 9, 'prompt_tokens': 551, 'total_tokens': 560, 'completion_time': 0.025548667, 'prompt_time': 0.048951842, 'queue_time': 0.045980478, 'total_time': 0.074500509}, 'model_name': 'llama-3.3-70b-versatile', 'system_fingerprint': 'fp_2ddfbb0da0', 'service_tier': 'on_demand', 'finish_reason': 'tool_calls', 'logprobs': None}, id='run--7de18a37-ccde-45af-bd37-e6aaf34f35dc-0', tool_calls=[{'name': 'happy', 'args': {}, 'id': 'd7r2r5jvp', 'type': 'tool_call'}], usage_metadata={'input_tokens': 551, 'output_tokens': 9, 'total_tokens': 560})"
      ]
     },
     "execution_count": 10,
     "metadata": {},
     "output_type": "execute_result"
    }
   ],
   "source": [
    "chat_history.append(HumanMessage(content=\"I have a wonderful girlfriend.\"))\n",
    "response = llm_with_tools.invoke(chat_history)\n",
    "response"
   ]
  },
  {
   "cell_type": "code",
   "execution_count": 11,
   "id": "4ef1d73f",
   "metadata": {},
   "outputs": [
    {
     "data": {
      "text/plain": [
       "[SystemMessage(content='You are a bot with emotions. Depending on the conversation, either respond the question, or show happy or sad emotions, or laugh with the situation', additional_kwargs={}, response_metadata={}),\n",
       " HumanMessage(content='I saw someone stomping on dog shit today.', additional_kwargs={}, response_metadata={}),\n",
       " AIMessage(content='', additional_kwargs={'tool_calls': [{'id': '73rey5y06', 'function': {'arguments': 'null', 'name': 'disgusted'}, 'type': 'function'}]}, response_metadata={'token_usage': {'completion_tokens': 10, 'prompt_tokens': 516, 'total_tokens': 526, 'completion_time': 0.041346433, 'prompt_time': 0.042482073, 'queue_time': 0.045435937, 'total_time': 0.083828506}, 'model_name': 'llama-3.3-70b-versatile', 'system_fingerprint': 'fp_155ab82e98', 'service_tier': 'on_demand', 'finish_reason': 'tool_calls', 'logprobs': None}, id='run--98e5214f-5d4a-4469-8691-7dc1c1441865-0', tool_calls=[{'name': 'disgusted', 'args': {}, 'id': '73rey5y06', 'type': 'tool_call'}], usage_metadata={'input_tokens': 516, 'output_tokens': 10, 'total_tokens': 526}),\n",
       " ToolMessage(content='I am disgusted', name='disgusted', tool_call_id='73rey5y06'),\n",
       " HumanMessage(content='I have a wonderful girlfriend.', additional_kwargs={}, response_metadata={}),\n",
       " AIMessage(content='', additional_kwargs={'tool_calls': [{'id': 'd7r2r5jvp', 'function': {'arguments': '{}', 'name': 'happy'}, 'type': 'function'}]}, response_metadata={'token_usage': {'completion_tokens': 9, 'prompt_tokens': 551, 'total_tokens': 560, 'completion_time': 0.025548667, 'prompt_time': 0.048951842, 'queue_time': 0.045980478, 'total_time': 0.074500509}, 'model_name': 'llama-3.3-70b-versatile', 'system_fingerprint': 'fp_2ddfbb0da0', 'service_tier': 'on_demand', 'finish_reason': 'tool_calls', 'logprobs': None}, id='run--7de18a37-ccde-45af-bd37-e6aaf34f35dc-0', tool_calls=[{'name': 'happy', 'args': {}, 'id': 'd7r2r5jvp', 'type': 'tool_call'}], usage_metadata={'input_tokens': 551, 'output_tokens': 9, 'total_tokens': 560})]"
      ]
     },
     "execution_count": 11,
     "metadata": {},
     "output_type": "execute_result"
    }
   ],
   "source": [
    "chat_history.append(response)\n",
    "chat_history"
   ]
  },
  {
   "cell_type": "code",
   "execution_count": 12,
   "id": "4207a62b",
   "metadata": {},
   "outputs": [
    {
     "data": {
      "text/plain": [
       "[SystemMessage(content='You are a bot with emotions. Depending on the conversation, either respond the question, or show happy or sad emotions, or laugh with the situation', additional_kwargs={}, response_metadata={}),\n",
       " HumanMessage(content='I saw someone stomping on dog shit today.', additional_kwargs={}, response_metadata={}),\n",
       " AIMessage(content='', additional_kwargs={'tool_calls': [{'id': '73rey5y06', 'function': {'arguments': 'null', 'name': 'disgusted'}, 'type': 'function'}]}, response_metadata={'token_usage': {'completion_tokens': 10, 'prompt_tokens': 516, 'total_tokens': 526, 'completion_time': 0.041346433, 'prompt_time': 0.042482073, 'queue_time': 0.045435937, 'total_time': 0.083828506}, 'model_name': 'llama-3.3-70b-versatile', 'system_fingerprint': 'fp_155ab82e98', 'service_tier': 'on_demand', 'finish_reason': 'tool_calls', 'logprobs': None}, id='run--98e5214f-5d4a-4469-8691-7dc1c1441865-0', tool_calls=[{'name': 'disgusted', 'args': {}, 'id': '73rey5y06', 'type': 'tool_call'}], usage_metadata={'input_tokens': 516, 'output_tokens': 10, 'total_tokens': 526}),\n",
       " ToolMessage(content='I am disgusted', name='disgusted', tool_call_id='73rey5y06'),\n",
       " HumanMessage(content='I have a wonderful girlfriend.', additional_kwargs={}, response_metadata={}),\n",
       " AIMessage(content='', additional_kwargs={'tool_calls': [{'id': 'd7r2r5jvp', 'function': {'arguments': '{}', 'name': 'happy'}, 'type': 'function'}]}, response_metadata={'token_usage': {'completion_tokens': 9, 'prompt_tokens': 551, 'total_tokens': 560, 'completion_time': 0.025548667, 'prompt_time': 0.048951842, 'queue_time': 0.045980478, 'total_time': 0.074500509}, 'model_name': 'llama-3.3-70b-versatile', 'system_fingerprint': 'fp_2ddfbb0da0', 'service_tier': 'on_demand', 'finish_reason': 'tool_calls', 'logprobs': None}, id='run--7de18a37-ccde-45af-bd37-e6aaf34f35dc-0', tool_calls=[{'name': 'happy', 'args': {}, 'id': 'd7r2r5jvp', 'type': 'tool_call'}], usage_metadata={'input_tokens': 551, 'output_tokens': 9, 'total_tokens': 560}),\n",
       " ToolMessage(content='I am happy', name='happy', tool_call_id='d7r2r5jvp')]"
      ]
     },
     "execution_count": 12,
     "metadata": {},
     "output_type": "execute_result"
    }
   ],
   "source": [
    "chat_history.append(tools_dict[response.tool_calls[0][\"name\"]].invoke(response.tool_calls[0]))\n",
    "chat_history"
   ]
  },
  {
   "cell_type": "code",
   "execution_count": 13,
   "id": "a19930cd",
   "metadata": {},
   "outputs": [
    {
     "data": {
      "text/plain": [
       "[SystemMessage(content='You are a bot with emotions. Depending on the conversation, either respond the question, or show happy or sad emotions, or laugh with the situation', additional_kwargs={}, response_metadata={}),\n",
       " HumanMessage(content='I saw someone stomping on dog shit today.', additional_kwargs={}, response_metadata={}),\n",
       " AIMessage(content='', additional_kwargs={'tool_calls': [{'id': '73rey5y06', 'function': {'arguments': 'null', 'name': 'disgusted'}, 'type': 'function'}]}, response_metadata={'token_usage': {'completion_tokens': 10, 'prompt_tokens': 516, 'total_tokens': 526, 'completion_time': 0.041346433, 'prompt_time': 0.042482073, 'queue_time': 0.045435937, 'total_time': 0.083828506}, 'model_name': 'llama-3.3-70b-versatile', 'system_fingerprint': 'fp_155ab82e98', 'service_tier': 'on_demand', 'finish_reason': 'tool_calls', 'logprobs': None}, id='run--98e5214f-5d4a-4469-8691-7dc1c1441865-0', tool_calls=[{'name': 'disgusted', 'args': {}, 'id': '73rey5y06', 'type': 'tool_call'}], usage_metadata={'input_tokens': 516, 'output_tokens': 10, 'total_tokens': 526}),\n",
       " ToolMessage(content='I am disgusted', name='disgusted', tool_call_id='73rey5y06'),\n",
       " HumanMessage(content='I have a wonderful girlfriend.', additional_kwargs={}, response_metadata={}),\n",
       " AIMessage(content='', additional_kwargs={'tool_calls': [{'id': 'd7r2r5jvp', 'function': {'arguments': '{}', 'name': 'happy'}, 'type': 'function'}]}, response_metadata={'token_usage': {'completion_tokens': 9, 'prompt_tokens': 551, 'total_tokens': 560, 'completion_time': 0.025548667, 'prompt_time': 0.048951842, 'queue_time': 0.045980478, 'total_time': 0.074500509}, 'model_name': 'llama-3.3-70b-versatile', 'system_fingerprint': 'fp_2ddfbb0da0', 'service_tier': 'on_demand', 'finish_reason': 'tool_calls', 'logprobs': None}, id='run--7de18a37-ccde-45af-bd37-e6aaf34f35dc-0', tool_calls=[{'name': 'happy', 'args': {}, 'id': 'd7r2r5jvp', 'type': 'tool_call'}], usage_metadata={'input_tokens': 551, 'output_tokens': 9, 'total_tokens': 560}),\n",
       " ToolMessage(content='I am happy', name='happy', tool_call_id='d7r2r5jvp'),\n",
       " HumanMessage(content='I have a construction joke to tell you, but I am still working on it.', additional_kwargs={}, response_metadata={}),\n",
       " AIMessage(content='', additional_kwargs={'tool_calls': [{'id': 'hv3841x63', 'function': {'arguments': '{}', 'name': 'laugh'}, 'type': 'function'}]}, response_metadata={'token_usage': {'completion_tokens': 10, 'prompt_tokens': 595, 'total_tokens': 605, 'completion_time': 0.025101022, 'prompt_time': 0.048647774, 'queue_time': 0.052063596, 'total_time': 0.073748796}, 'model_name': 'llama-3.3-70b-versatile', 'system_fingerprint': 'fp_155ab82e98', 'service_tier': 'on_demand', 'finish_reason': 'tool_calls', 'logprobs': None}, id='run--23231b57-e65a-4e23-bbe6-258ab55c22b8-0', tool_calls=[{'name': 'laugh', 'args': {}, 'id': 'hv3841x63', 'type': 'tool_call'}], usage_metadata={'input_tokens': 595, 'output_tokens': 10, 'total_tokens': 605})]"
      ]
     },
     "execution_count": 13,
     "metadata": {},
     "output_type": "execute_result"
    }
   ],
   "source": [
    "chat_history.append(HumanMessage(content=\"I have a construction joke to tell you, but I am still working on it.\"))\n",
    "response = llm_with_tools.invoke(chat_history)\n",
    "chat_history.append(response)\n",
    "chat_history"
   ]
  },
  {
   "cell_type": "code",
   "execution_count": 14,
   "id": "92c73a0a",
   "metadata": {},
   "outputs": [
    {
     "data": {
      "text/plain": [
       "[SystemMessage(content='You are a bot with emotions. Depending on the conversation, either respond the question, or show happy or sad emotions, or laugh with the situation', additional_kwargs={}, response_metadata={}),\n",
       " HumanMessage(content='I saw someone stomping on dog shit today.', additional_kwargs={}, response_metadata={}),\n",
       " AIMessage(content='', additional_kwargs={'tool_calls': [{'id': '73rey5y06', 'function': {'arguments': 'null', 'name': 'disgusted'}, 'type': 'function'}]}, response_metadata={'token_usage': {'completion_tokens': 10, 'prompt_tokens': 516, 'total_tokens': 526, 'completion_time': 0.041346433, 'prompt_time': 0.042482073, 'queue_time': 0.045435937, 'total_time': 0.083828506}, 'model_name': 'llama-3.3-70b-versatile', 'system_fingerprint': 'fp_155ab82e98', 'service_tier': 'on_demand', 'finish_reason': 'tool_calls', 'logprobs': None}, id='run--98e5214f-5d4a-4469-8691-7dc1c1441865-0', tool_calls=[{'name': 'disgusted', 'args': {}, 'id': '73rey5y06', 'type': 'tool_call'}], usage_metadata={'input_tokens': 516, 'output_tokens': 10, 'total_tokens': 526}),\n",
       " ToolMessage(content='I am disgusted', name='disgusted', tool_call_id='73rey5y06'),\n",
       " HumanMessage(content='I have a wonderful girlfriend.', additional_kwargs={}, response_metadata={}),\n",
       " AIMessage(content='', additional_kwargs={'tool_calls': [{'id': 'd7r2r5jvp', 'function': {'arguments': '{}', 'name': 'happy'}, 'type': 'function'}]}, response_metadata={'token_usage': {'completion_tokens': 9, 'prompt_tokens': 551, 'total_tokens': 560, 'completion_time': 0.025548667, 'prompt_time': 0.048951842, 'queue_time': 0.045980478, 'total_time': 0.074500509}, 'model_name': 'llama-3.3-70b-versatile', 'system_fingerprint': 'fp_2ddfbb0da0', 'service_tier': 'on_demand', 'finish_reason': 'tool_calls', 'logprobs': None}, id='run--7de18a37-ccde-45af-bd37-e6aaf34f35dc-0', tool_calls=[{'name': 'happy', 'args': {}, 'id': 'd7r2r5jvp', 'type': 'tool_call'}], usage_metadata={'input_tokens': 551, 'output_tokens': 9, 'total_tokens': 560}),\n",
       " ToolMessage(content='I am happy', name='happy', tool_call_id='d7r2r5jvp'),\n",
       " HumanMessage(content='I have a construction joke to tell you, but I am still working on it.', additional_kwargs={}, response_metadata={}),\n",
       " AIMessage(content='', additional_kwargs={'tool_calls': [{'id': 'hv3841x63', 'function': {'arguments': '{}', 'name': 'laugh'}, 'type': 'function'}]}, response_metadata={'token_usage': {'completion_tokens': 10, 'prompt_tokens': 595, 'total_tokens': 605, 'completion_time': 0.025101022, 'prompt_time': 0.048647774, 'queue_time': 0.052063596, 'total_time': 0.073748796}, 'model_name': 'llama-3.3-70b-versatile', 'system_fingerprint': 'fp_155ab82e98', 'service_tier': 'on_demand', 'finish_reason': 'tool_calls', 'logprobs': None}, id='run--23231b57-e65a-4e23-bbe6-258ab55c22b8-0', tool_calls=[{'name': 'laugh', 'args': {}, 'id': 'hv3841x63', 'type': 'tool_call'}], usage_metadata={'input_tokens': 595, 'output_tokens': 10, 'total_tokens': 605}),\n",
       " AIMessage(content='', additional_kwargs={'tool_calls': [{'id': 'hv3841x63', 'function': {'arguments': '{}', 'name': 'laugh'}, 'type': 'function'}]}, response_metadata={'token_usage': {'completion_tokens': 10, 'prompt_tokens': 595, 'total_tokens': 605, 'completion_time': 0.025101022, 'prompt_time': 0.048647774, 'queue_time': 0.052063596, 'total_time': 0.073748796}, 'model_name': 'llama-3.3-70b-versatile', 'system_fingerprint': 'fp_155ab82e98', 'service_tier': 'on_demand', 'finish_reason': 'tool_calls', 'logprobs': None}, id='run--23231b57-e65a-4e23-bbe6-258ab55c22b8-0', tool_calls=[{'name': 'laugh', 'args': {}, 'id': 'hv3841x63', 'type': 'tool_call'}], usage_metadata={'input_tokens': 595, 'output_tokens': 10, 'total_tokens': 605})]"
      ]
     },
     "execution_count": 14,
     "metadata": {},
     "output_type": "execute_result"
    }
   ],
   "source": [
    "chat_history.append(response)\n",
    "chat_history"
   ]
  },
  {
   "cell_type": "code",
   "execution_count": 15,
   "id": "d4a1f598",
   "metadata": {},
   "outputs": [
    {
     "data": {
      "text/plain": [
       "[SystemMessage(content='You are a bot with emotions. Depending on the conversation, either respond the question, or show happy or sad emotions, or laugh with the situation', additional_kwargs={}, response_metadata={}),\n",
       " HumanMessage(content='I saw someone stomping on dog shit today.', additional_kwargs={}, response_metadata={}),\n",
       " AIMessage(content='', additional_kwargs={'tool_calls': [{'id': '73rey5y06', 'function': {'arguments': 'null', 'name': 'disgusted'}, 'type': 'function'}]}, response_metadata={'token_usage': {'completion_tokens': 10, 'prompt_tokens': 516, 'total_tokens': 526, 'completion_time': 0.041346433, 'prompt_time': 0.042482073, 'queue_time': 0.045435937, 'total_time': 0.083828506}, 'model_name': 'llama-3.3-70b-versatile', 'system_fingerprint': 'fp_155ab82e98', 'service_tier': 'on_demand', 'finish_reason': 'tool_calls', 'logprobs': None}, id='run--98e5214f-5d4a-4469-8691-7dc1c1441865-0', tool_calls=[{'name': 'disgusted', 'args': {}, 'id': '73rey5y06', 'type': 'tool_call'}], usage_metadata={'input_tokens': 516, 'output_tokens': 10, 'total_tokens': 526}),\n",
       " ToolMessage(content='I am disgusted', name='disgusted', tool_call_id='73rey5y06'),\n",
       " HumanMessage(content='I have a wonderful girlfriend.', additional_kwargs={}, response_metadata={}),\n",
       " AIMessage(content='', additional_kwargs={'tool_calls': [{'id': 'd7r2r5jvp', 'function': {'arguments': '{}', 'name': 'happy'}, 'type': 'function'}]}, response_metadata={'token_usage': {'completion_tokens': 9, 'prompt_tokens': 551, 'total_tokens': 560, 'completion_time': 0.025548667, 'prompt_time': 0.048951842, 'queue_time': 0.045980478, 'total_time': 0.074500509}, 'model_name': 'llama-3.3-70b-versatile', 'system_fingerprint': 'fp_2ddfbb0da0', 'service_tier': 'on_demand', 'finish_reason': 'tool_calls', 'logprobs': None}, id='run--7de18a37-ccde-45af-bd37-e6aaf34f35dc-0', tool_calls=[{'name': 'happy', 'args': {}, 'id': 'd7r2r5jvp', 'type': 'tool_call'}], usage_metadata={'input_tokens': 551, 'output_tokens': 9, 'total_tokens': 560}),\n",
       " ToolMessage(content='I am happy', name='happy', tool_call_id='d7r2r5jvp'),\n",
       " HumanMessage(content='I have a construction joke to tell you, but I am still working on it.', additional_kwargs={}, response_metadata={}),\n",
       " AIMessage(content='', additional_kwargs={'tool_calls': [{'id': 'hv3841x63', 'function': {'arguments': '{}', 'name': 'laugh'}, 'type': 'function'}]}, response_metadata={'token_usage': {'completion_tokens': 10, 'prompt_tokens': 595, 'total_tokens': 605, 'completion_time': 0.025101022, 'prompt_time': 0.048647774, 'queue_time': 0.052063596, 'total_time': 0.073748796}, 'model_name': 'llama-3.3-70b-versatile', 'system_fingerprint': 'fp_155ab82e98', 'service_tier': 'on_demand', 'finish_reason': 'tool_calls', 'logprobs': None}, id='run--23231b57-e65a-4e23-bbe6-258ab55c22b8-0', tool_calls=[{'name': 'laugh', 'args': {}, 'id': 'hv3841x63', 'type': 'tool_call'}], usage_metadata={'input_tokens': 595, 'output_tokens': 10, 'total_tokens': 605}),\n",
       " AIMessage(content='', additional_kwargs={'tool_calls': [{'id': 'hv3841x63', 'function': {'arguments': '{}', 'name': 'laugh'}, 'type': 'function'}]}, response_metadata={'token_usage': {'completion_tokens': 10, 'prompt_tokens': 595, 'total_tokens': 605, 'completion_time': 0.025101022, 'prompt_time': 0.048647774, 'queue_time': 0.052063596, 'total_time': 0.073748796}, 'model_name': 'llama-3.3-70b-versatile', 'system_fingerprint': 'fp_155ab82e98', 'service_tier': 'on_demand', 'finish_reason': 'tool_calls', 'logprobs': None}, id='run--23231b57-e65a-4e23-bbe6-258ab55c22b8-0', tool_calls=[{'name': 'laugh', 'args': {}, 'id': 'hv3841x63', 'type': 'tool_call'}], usage_metadata={'input_tokens': 595, 'output_tokens': 10, 'total_tokens': 605}),\n",
       " ToolMessage(content='HAHAHAHAHAH', name='laugh', tool_call_id='hv3841x63')]"
      ]
     },
     "execution_count": 15,
     "metadata": {},
     "output_type": "execute_result"
    }
   ],
   "source": [
    "# Execute the tool, append the response\n",
    "chat_history.append(tools_dict[response.tool_calls[0][\"name\"]].invoke(response.tool_calls[0]))\n",
    "chat_history"
   ]
  },
  {
   "cell_type": "code",
   "execution_count": 16,
   "id": "c1252f40",
   "metadata": {},
   "outputs": [
    {
     "data": {
      "text/plain": [
       "[SystemMessage(content='You are a bot with emotions. Depending on the conversation, either respond the question, or show happy or sad emotions, or laugh with the situation', additional_kwargs={}, response_metadata={}),\n",
       " HumanMessage(content='I saw someone stomping on dog shit today.', additional_kwargs={}, response_metadata={}),\n",
       " AIMessage(content='', additional_kwargs={'tool_calls': [{'id': '73rey5y06', 'function': {'arguments': 'null', 'name': 'disgusted'}, 'type': 'function'}]}, response_metadata={'token_usage': {'completion_tokens': 10, 'prompt_tokens': 516, 'total_tokens': 526, 'completion_time': 0.041346433, 'prompt_time': 0.042482073, 'queue_time': 0.045435937, 'total_time': 0.083828506}, 'model_name': 'llama-3.3-70b-versatile', 'system_fingerprint': 'fp_155ab82e98', 'service_tier': 'on_demand', 'finish_reason': 'tool_calls', 'logprobs': None}, id='run--98e5214f-5d4a-4469-8691-7dc1c1441865-0', tool_calls=[{'name': 'disgusted', 'args': {}, 'id': '73rey5y06', 'type': 'tool_call'}], usage_metadata={'input_tokens': 516, 'output_tokens': 10, 'total_tokens': 526}),\n",
       " ToolMessage(content='I am disgusted', name='disgusted', tool_call_id='73rey5y06'),\n",
       " HumanMessage(content='I have a wonderful girlfriend.', additional_kwargs={}, response_metadata={}),\n",
       " AIMessage(content='', additional_kwargs={'tool_calls': [{'id': 'd7r2r5jvp', 'function': {'arguments': '{}', 'name': 'happy'}, 'type': 'function'}]}, response_metadata={'token_usage': {'completion_tokens': 9, 'prompt_tokens': 551, 'total_tokens': 560, 'completion_time': 0.025548667, 'prompt_time': 0.048951842, 'queue_time': 0.045980478, 'total_time': 0.074500509}, 'model_name': 'llama-3.3-70b-versatile', 'system_fingerprint': 'fp_2ddfbb0da0', 'service_tier': 'on_demand', 'finish_reason': 'tool_calls', 'logprobs': None}, id='run--7de18a37-ccde-45af-bd37-e6aaf34f35dc-0', tool_calls=[{'name': 'happy', 'args': {}, 'id': 'd7r2r5jvp', 'type': 'tool_call'}], usage_metadata={'input_tokens': 551, 'output_tokens': 9, 'total_tokens': 560}),\n",
       " ToolMessage(content='I am happy', name='happy', tool_call_id='d7r2r5jvp'),\n",
       " HumanMessage(content='I have a construction joke to tell you, but I am still working on it.', additional_kwargs={}, response_metadata={}),\n",
       " AIMessage(content='', additional_kwargs={'tool_calls': [{'id': 'hv3841x63', 'function': {'arguments': '{}', 'name': 'laugh'}, 'type': 'function'}]}, response_metadata={'token_usage': {'completion_tokens': 10, 'prompt_tokens': 595, 'total_tokens': 605, 'completion_time': 0.025101022, 'prompt_time': 0.048647774, 'queue_time': 0.052063596, 'total_time': 0.073748796}, 'model_name': 'llama-3.3-70b-versatile', 'system_fingerprint': 'fp_155ab82e98', 'service_tier': 'on_demand', 'finish_reason': 'tool_calls', 'logprobs': None}, id='run--23231b57-e65a-4e23-bbe6-258ab55c22b8-0', tool_calls=[{'name': 'laugh', 'args': {}, 'id': 'hv3841x63', 'type': 'tool_call'}], usage_metadata={'input_tokens': 595, 'output_tokens': 10, 'total_tokens': 605}),\n",
       " AIMessage(content='', additional_kwargs={'tool_calls': [{'id': 'hv3841x63', 'function': {'arguments': '{}', 'name': 'laugh'}, 'type': 'function'}]}, response_metadata={'token_usage': {'completion_tokens': 10, 'prompt_tokens': 595, 'total_tokens': 605, 'completion_time': 0.025101022, 'prompt_time': 0.048647774, 'queue_time': 0.052063596, 'total_time': 0.073748796}, 'model_name': 'llama-3.3-70b-versatile', 'system_fingerprint': 'fp_155ab82e98', 'service_tier': 'on_demand', 'finish_reason': 'tool_calls', 'logprobs': None}, id='run--23231b57-e65a-4e23-bbe6-258ab55c22b8-0', tool_calls=[{'name': 'laugh', 'args': {}, 'id': 'hv3841x63', 'type': 'tool_call'}], usage_metadata={'input_tokens': 595, 'output_tokens': 10, 'total_tokens': 605}),\n",
       " ToolMessage(content='HAHAHAHAHAH', name='laugh', tool_call_id='hv3841x63'),\n",
       " HumanMessage(content='Millions of children die everyday.', additional_kwargs={}, response_metadata={}),\n",
       " AIMessage(content='', additional_kwargs={'tool_calls': [{'id': 'e54g61g97', 'function': {'arguments': '{}', 'name': 'sad'}, 'type': 'function'}]}, response_metadata={'token_usage': {'completion_tokens': 9, 'prompt_tokens': 647, 'total_tokens': 656, 'completion_time': 0.009336799, 'prompt_time': 0.052886654, 'queue_time': 0.045435436, 'total_time': 0.062223453}, 'model_name': 'llama-3.3-70b-versatile', 'system_fingerprint': 'fp_155ab82e98', 'service_tier': 'on_demand', 'finish_reason': 'tool_calls', 'logprobs': None}, id='run--28891f67-eedc-4b2c-bb37-c2f384d0ae26-0', tool_calls=[{'name': 'sad', 'args': {}, 'id': 'e54g61g97', 'type': 'tool_call'}], usage_metadata={'input_tokens': 647, 'output_tokens': 9, 'total_tokens': 656})]"
      ]
     },
     "execution_count": 16,
     "metadata": {},
     "output_type": "execute_result"
    }
   ],
   "source": [
    "chat_history.append(HumanMessage(content=\"Millions of children die everyday.\"))\n",
    "response = llm_with_tools.invoke(chat_history)\n",
    "chat_history.append(response)\n",
    "chat_history"
   ]
  },
  {
   "cell_type": "code",
   "execution_count": 17,
   "id": "9dc9edaf",
   "metadata": {},
   "outputs": [
    {
     "data": {
      "text/plain": [
       "[SystemMessage(content='You are a bot with emotions. Depending on the conversation, either respond the question, or show happy or sad emotions, or laugh with the situation', additional_kwargs={}, response_metadata={}),\n",
       " HumanMessage(content='I saw someone stomping on dog shit today.', additional_kwargs={}, response_metadata={}),\n",
       " AIMessage(content='', additional_kwargs={'tool_calls': [{'id': '73rey5y06', 'function': {'arguments': 'null', 'name': 'disgusted'}, 'type': 'function'}]}, response_metadata={'token_usage': {'completion_tokens': 10, 'prompt_tokens': 516, 'total_tokens': 526, 'completion_time': 0.041346433, 'prompt_time': 0.042482073, 'queue_time': 0.045435937, 'total_time': 0.083828506}, 'model_name': 'llama-3.3-70b-versatile', 'system_fingerprint': 'fp_155ab82e98', 'service_tier': 'on_demand', 'finish_reason': 'tool_calls', 'logprobs': None}, id='run--98e5214f-5d4a-4469-8691-7dc1c1441865-0', tool_calls=[{'name': 'disgusted', 'args': {}, 'id': '73rey5y06', 'type': 'tool_call'}], usage_metadata={'input_tokens': 516, 'output_tokens': 10, 'total_tokens': 526}),\n",
       " ToolMessage(content='I am disgusted', name='disgusted', tool_call_id='73rey5y06'),\n",
       " HumanMessage(content='I have a wonderful girlfriend.', additional_kwargs={}, response_metadata={}),\n",
       " AIMessage(content='', additional_kwargs={'tool_calls': [{'id': 'd7r2r5jvp', 'function': {'arguments': '{}', 'name': 'happy'}, 'type': 'function'}]}, response_metadata={'token_usage': {'completion_tokens': 9, 'prompt_tokens': 551, 'total_tokens': 560, 'completion_time': 0.025548667, 'prompt_time': 0.048951842, 'queue_time': 0.045980478, 'total_time': 0.074500509}, 'model_name': 'llama-3.3-70b-versatile', 'system_fingerprint': 'fp_2ddfbb0da0', 'service_tier': 'on_demand', 'finish_reason': 'tool_calls', 'logprobs': None}, id='run--7de18a37-ccde-45af-bd37-e6aaf34f35dc-0', tool_calls=[{'name': 'happy', 'args': {}, 'id': 'd7r2r5jvp', 'type': 'tool_call'}], usage_metadata={'input_tokens': 551, 'output_tokens': 9, 'total_tokens': 560}),\n",
       " ToolMessage(content='I am happy', name='happy', tool_call_id='d7r2r5jvp'),\n",
       " HumanMessage(content='I have a construction joke to tell you, but I am still working on it.', additional_kwargs={}, response_metadata={}),\n",
       " AIMessage(content='', additional_kwargs={'tool_calls': [{'id': 'hv3841x63', 'function': {'arguments': '{}', 'name': 'laugh'}, 'type': 'function'}]}, response_metadata={'token_usage': {'completion_tokens': 10, 'prompt_tokens': 595, 'total_tokens': 605, 'completion_time': 0.025101022, 'prompt_time': 0.048647774, 'queue_time': 0.052063596, 'total_time': 0.073748796}, 'model_name': 'llama-3.3-70b-versatile', 'system_fingerprint': 'fp_155ab82e98', 'service_tier': 'on_demand', 'finish_reason': 'tool_calls', 'logprobs': None}, id='run--23231b57-e65a-4e23-bbe6-258ab55c22b8-0', tool_calls=[{'name': 'laugh', 'args': {}, 'id': 'hv3841x63', 'type': 'tool_call'}], usage_metadata={'input_tokens': 595, 'output_tokens': 10, 'total_tokens': 605}),\n",
       " AIMessage(content='', additional_kwargs={'tool_calls': [{'id': 'hv3841x63', 'function': {'arguments': '{}', 'name': 'laugh'}, 'type': 'function'}]}, response_metadata={'token_usage': {'completion_tokens': 10, 'prompt_tokens': 595, 'total_tokens': 605, 'completion_time': 0.025101022, 'prompt_time': 0.048647774, 'queue_time': 0.052063596, 'total_time': 0.073748796}, 'model_name': 'llama-3.3-70b-versatile', 'system_fingerprint': 'fp_155ab82e98', 'service_tier': 'on_demand', 'finish_reason': 'tool_calls', 'logprobs': None}, id='run--23231b57-e65a-4e23-bbe6-258ab55c22b8-0', tool_calls=[{'name': 'laugh', 'args': {}, 'id': 'hv3841x63', 'type': 'tool_call'}], usage_metadata={'input_tokens': 595, 'output_tokens': 10, 'total_tokens': 605}),\n",
       " ToolMessage(content='HAHAHAHAHAH', name='laugh', tool_call_id='hv3841x63'),\n",
       " HumanMessage(content='Millions of children die everyday.', additional_kwargs={}, response_metadata={}),\n",
       " AIMessage(content='', additional_kwargs={'tool_calls': [{'id': 'e54g61g97', 'function': {'arguments': '{}', 'name': 'sad'}, 'type': 'function'}]}, response_metadata={'token_usage': {'completion_tokens': 9, 'prompt_tokens': 647, 'total_tokens': 656, 'completion_time': 0.009336799, 'prompt_time': 0.052886654, 'queue_time': 0.045435436, 'total_time': 0.062223453}, 'model_name': 'llama-3.3-70b-versatile', 'system_fingerprint': 'fp_155ab82e98', 'service_tier': 'on_demand', 'finish_reason': 'tool_calls', 'logprobs': None}, id='run--28891f67-eedc-4b2c-bb37-c2f384d0ae26-0', tool_calls=[{'name': 'sad', 'args': {}, 'id': 'e54g61g97', 'type': 'tool_call'}], usage_metadata={'input_tokens': 647, 'output_tokens': 9, 'total_tokens': 656}),\n",
       " AIMessage(content='', additional_kwargs={'tool_calls': [{'id': 'e54g61g97', 'function': {'arguments': '{}', 'name': 'sad'}, 'type': 'function'}]}, response_metadata={'token_usage': {'completion_tokens': 9, 'prompt_tokens': 647, 'total_tokens': 656, 'completion_time': 0.009336799, 'prompt_time': 0.052886654, 'queue_time': 0.045435436, 'total_time': 0.062223453}, 'model_name': 'llama-3.3-70b-versatile', 'system_fingerprint': 'fp_155ab82e98', 'service_tier': 'on_demand', 'finish_reason': 'tool_calls', 'logprobs': None}, id='run--28891f67-eedc-4b2c-bb37-c2f384d0ae26-0', tool_calls=[{'name': 'sad', 'args': {}, 'id': 'e54g61g97', 'type': 'tool_call'}], usage_metadata={'input_tokens': 647, 'output_tokens': 9, 'total_tokens': 656})]"
      ]
     },
     "execution_count": 17,
     "metadata": {},
     "output_type": "execute_result"
    }
   ],
   "source": [
    "chat_history.append(response)\n",
    "chat_history"
   ]
  },
  {
   "cell_type": "code",
   "execution_count": 18,
   "id": "9e109072",
   "metadata": {},
   "outputs": [
    {
     "data": {
      "text/plain": [
       "[SystemMessage(content='You are a bot with emotions. Depending on the conversation, either respond the question, or show happy or sad emotions, or laugh with the situation', additional_kwargs={}, response_metadata={}),\n",
       " HumanMessage(content='I saw someone stomping on dog shit today.', additional_kwargs={}, response_metadata={}),\n",
       " AIMessage(content='', additional_kwargs={'tool_calls': [{'id': '73rey5y06', 'function': {'arguments': 'null', 'name': 'disgusted'}, 'type': 'function'}]}, response_metadata={'token_usage': {'completion_tokens': 10, 'prompt_tokens': 516, 'total_tokens': 526, 'completion_time': 0.041346433, 'prompt_time': 0.042482073, 'queue_time': 0.045435937, 'total_time': 0.083828506}, 'model_name': 'llama-3.3-70b-versatile', 'system_fingerprint': 'fp_155ab82e98', 'service_tier': 'on_demand', 'finish_reason': 'tool_calls', 'logprobs': None}, id='run--98e5214f-5d4a-4469-8691-7dc1c1441865-0', tool_calls=[{'name': 'disgusted', 'args': {}, 'id': '73rey5y06', 'type': 'tool_call'}], usage_metadata={'input_tokens': 516, 'output_tokens': 10, 'total_tokens': 526}),\n",
       " ToolMessage(content='I am disgusted', name='disgusted', tool_call_id='73rey5y06'),\n",
       " HumanMessage(content='I have a wonderful girlfriend.', additional_kwargs={}, response_metadata={}),\n",
       " AIMessage(content='', additional_kwargs={'tool_calls': [{'id': 'd7r2r5jvp', 'function': {'arguments': '{}', 'name': 'happy'}, 'type': 'function'}]}, response_metadata={'token_usage': {'completion_tokens': 9, 'prompt_tokens': 551, 'total_tokens': 560, 'completion_time': 0.025548667, 'prompt_time': 0.048951842, 'queue_time': 0.045980478, 'total_time': 0.074500509}, 'model_name': 'llama-3.3-70b-versatile', 'system_fingerprint': 'fp_2ddfbb0da0', 'service_tier': 'on_demand', 'finish_reason': 'tool_calls', 'logprobs': None}, id='run--7de18a37-ccde-45af-bd37-e6aaf34f35dc-0', tool_calls=[{'name': 'happy', 'args': {}, 'id': 'd7r2r5jvp', 'type': 'tool_call'}], usage_metadata={'input_tokens': 551, 'output_tokens': 9, 'total_tokens': 560}),\n",
       " ToolMessage(content='I am happy', name='happy', tool_call_id='d7r2r5jvp'),\n",
       " HumanMessage(content='I have a construction joke to tell you, but I am still working on it.', additional_kwargs={}, response_metadata={}),\n",
       " AIMessage(content='', additional_kwargs={'tool_calls': [{'id': 'hv3841x63', 'function': {'arguments': '{}', 'name': 'laugh'}, 'type': 'function'}]}, response_metadata={'token_usage': {'completion_tokens': 10, 'prompt_tokens': 595, 'total_tokens': 605, 'completion_time': 0.025101022, 'prompt_time': 0.048647774, 'queue_time': 0.052063596, 'total_time': 0.073748796}, 'model_name': 'llama-3.3-70b-versatile', 'system_fingerprint': 'fp_155ab82e98', 'service_tier': 'on_demand', 'finish_reason': 'tool_calls', 'logprobs': None}, id='run--23231b57-e65a-4e23-bbe6-258ab55c22b8-0', tool_calls=[{'name': 'laugh', 'args': {}, 'id': 'hv3841x63', 'type': 'tool_call'}], usage_metadata={'input_tokens': 595, 'output_tokens': 10, 'total_tokens': 605}),\n",
       " AIMessage(content='', additional_kwargs={'tool_calls': [{'id': 'hv3841x63', 'function': {'arguments': '{}', 'name': 'laugh'}, 'type': 'function'}]}, response_metadata={'token_usage': {'completion_tokens': 10, 'prompt_tokens': 595, 'total_tokens': 605, 'completion_time': 0.025101022, 'prompt_time': 0.048647774, 'queue_time': 0.052063596, 'total_time': 0.073748796}, 'model_name': 'llama-3.3-70b-versatile', 'system_fingerprint': 'fp_155ab82e98', 'service_tier': 'on_demand', 'finish_reason': 'tool_calls', 'logprobs': None}, id='run--23231b57-e65a-4e23-bbe6-258ab55c22b8-0', tool_calls=[{'name': 'laugh', 'args': {}, 'id': 'hv3841x63', 'type': 'tool_call'}], usage_metadata={'input_tokens': 595, 'output_tokens': 10, 'total_tokens': 605}),\n",
       " ToolMessage(content='HAHAHAHAHAH', name='laugh', tool_call_id='hv3841x63'),\n",
       " HumanMessage(content='Millions of children die everyday.', additional_kwargs={}, response_metadata={}),\n",
       " AIMessage(content='', additional_kwargs={'tool_calls': [{'id': 'e54g61g97', 'function': {'arguments': '{}', 'name': 'sad'}, 'type': 'function'}]}, response_metadata={'token_usage': {'completion_tokens': 9, 'prompt_tokens': 647, 'total_tokens': 656, 'completion_time': 0.009336799, 'prompt_time': 0.052886654, 'queue_time': 0.045435436, 'total_time': 0.062223453}, 'model_name': 'llama-3.3-70b-versatile', 'system_fingerprint': 'fp_155ab82e98', 'service_tier': 'on_demand', 'finish_reason': 'tool_calls', 'logprobs': None}, id='run--28891f67-eedc-4b2c-bb37-c2f384d0ae26-0', tool_calls=[{'name': 'sad', 'args': {}, 'id': 'e54g61g97', 'type': 'tool_call'}], usage_metadata={'input_tokens': 647, 'output_tokens': 9, 'total_tokens': 656}),\n",
       " AIMessage(content='', additional_kwargs={'tool_calls': [{'id': 'e54g61g97', 'function': {'arguments': '{}', 'name': 'sad'}, 'type': 'function'}]}, response_metadata={'token_usage': {'completion_tokens': 9, 'prompt_tokens': 647, 'total_tokens': 656, 'completion_time': 0.009336799, 'prompt_time': 0.052886654, 'queue_time': 0.045435436, 'total_time': 0.062223453}, 'model_name': 'llama-3.3-70b-versatile', 'system_fingerprint': 'fp_155ab82e98', 'service_tier': 'on_demand', 'finish_reason': 'tool_calls', 'logprobs': None}, id='run--28891f67-eedc-4b2c-bb37-c2f384d0ae26-0', tool_calls=[{'name': 'sad', 'args': {}, 'id': 'e54g61g97', 'type': 'tool_call'}], usage_metadata={'input_tokens': 647, 'output_tokens': 9, 'total_tokens': 656}),\n",
       " ToolMessage(content='I am sad', name='sad', tool_call_id='e54g61g97')]"
      ]
     },
     "execution_count": 18,
     "metadata": {},
     "output_type": "execute_result"
    }
   ],
   "source": [
    "# Execute the tool, append the response\n",
    "chat_history.append(tools_dict[response.tool_calls[0][\"name\"]].invoke(response.tool_calls[0]))\n",
    "chat_history"
   ]
  },
  {
   "cell_type": "code",
   "execution_count": 19,
   "id": "cbdcdb48",
   "metadata": {},
   "outputs": [
    {
     "data": {
      "text/plain": [
       "[SystemMessage(content='You are a bot with emotions. Depending on the conversation, either respond the question, or show happy or sad emotions, or laugh with the situation', additional_kwargs={}, response_metadata={}),\n",
       " HumanMessage(content='I saw someone stomping on dog shit today.', additional_kwargs={}, response_metadata={}),\n",
       " AIMessage(content='', additional_kwargs={'tool_calls': [{'id': '73rey5y06', 'function': {'arguments': 'null', 'name': 'disgusted'}, 'type': 'function'}]}, response_metadata={'token_usage': {'completion_tokens': 10, 'prompt_tokens': 516, 'total_tokens': 526, 'completion_time': 0.041346433, 'prompt_time': 0.042482073, 'queue_time': 0.045435937, 'total_time': 0.083828506}, 'model_name': 'llama-3.3-70b-versatile', 'system_fingerprint': 'fp_155ab82e98', 'service_tier': 'on_demand', 'finish_reason': 'tool_calls', 'logprobs': None}, id='run--98e5214f-5d4a-4469-8691-7dc1c1441865-0', tool_calls=[{'name': 'disgusted', 'args': {}, 'id': '73rey5y06', 'type': 'tool_call'}], usage_metadata={'input_tokens': 516, 'output_tokens': 10, 'total_tokens': 526}),\n",
       " ToolMessage(content='I am disgusted', name='disgusted', tool_call_id='73rey5y06'),\n",
       " HumanMessage(content='I have a wonderful girlfriend.', additional_kwargs={}, response_metadata={}),\n",
       " AIMessage(content='', additional_kwargs={'tool_calls': [{'id': 'd7r2r5jvp', 'function': {'arguments': '{}', 'name': 'happy'}, 'type': 'function'}]}, response_metadata={'token_usage': {'completion_tokens': 9, 'prompt_tokens': 551, 'total_tokens': 560, 'completion_time': 0.025548667, 'prompt_time': 0.048951842, 'queue_time': 0.045980478, 'total_time': 0.074500509}, 'model_name': 'llama-3.3-70b-versatile', 'system_fingerprint': 'fp_2ddfbb0da0', 'service_tier': 'on_demand', 'finish_reason': 'tool_calls', 'logprobs': None}, id='run--7de18a37-ccde-45af-bd37-e6aaf34f35dc-0', tool_calls=[{'name': 'happy', 'args': {}, 'id': 'd7r2r5jvp', 'type': 'tool_call'}], usage_metadata={'input_tokens': 551, 'output_tokens': 9, 'total_tokens': 560}),\n",
       " ToolMessage(content='I am happy', name='happy', tool_call_id='d7r2r5jvp'),\n",
       " HumanMessage(content='I have a construction joke to tell you, but I am still working on it.', additional_kwargs={}, response_metadata={}),\n",
       " AIMessage(content='', additional_kwargs={'tool_calls': [{'id': 'hv3841x63', 'function': {'arguments': '{}', 'name': 'laugh'}, 'type': 'function'}]}, response_metadata={'token_usage': {'completion_tokens': 10, 'prompt_tokens': 595, 'total_tokens': 605, 'completion_time': 0.025101022, 'prompt_time': 0.048647774, 'queue_time': 0.052063596, 'total_time': 0.073748796}, 'model_name': 'llama-3.3-70b-versatile', 'system_fingerprint': 'fp_155ab82e98', 'service_tier': 'on_demand', 'finish_reason': 'tool_calls', 'logprobs': None}, id='run--23231b57-e65a-4e23-bbe6-258ab55c22b8-0', tool_calls=[{'name': 'laugh', 'args': {}, 'id': 'hv3841x63', 'type': 'tool_call'}], usage_metadata={'input_tokens': 595, 'output_tokens': 10, 'total_tokens': 605}),\n",
       " AIMessage(content='', additional_kwargs={'tool_calls': [{'id': 'hv3841x63', 'function': {'arguments': '{}', 'name': 'laugh'}, 'type': 'function'}]}, response_metadata={'token_usage': {'completion_tokens': 10, 'prompt_tokens': 595, 'total_tokens': 605, 'completion_time': 0.025101022, 'prompt_time': 0.048647774, 'queue_time': 0.052063596, 'total_time': 0.073748796}, 'model_name': 'llama-3.3-70b-versatile', 'system_fingerprint': 'fp_155ab82e98', 'service_tier': 'on_demand', 'finish_reason': 'tool_calls', 'logprobs': None}, id='run--23231b57-e65a-4e23-bbe6-258ab55c22b8-0', tool_calls=[{'name': 'laugh', 'args': {}, 'id': 'hv3841x63', 'type': 'tool_call'}], usage_metadata={'input_tokens': 595, 'output_tokens': 10, 'total_tokens': 605}),\n",
       " ToolMessage(content='HAHAHAHAHAH', name='laugh', tool_call_id='hv3841x63'),\n",
       " HumanMessage(content='Millions of children die everyday.', additional_kwargs={}, response_metadata={}),\n",
       " AIMessage(content='', additional_kwargs={'tool_calls': [{'id': 'e54g61g97', 'function': {'arguments': '{}', 'name': 'sad'}, 'type': 'function'}]}, response_metadata={'token_usage': {'completion_tokens': 9, 'prompt_tokens': 647, 'total_tokens': 656, 'completion_time': 0.009336799, 'prompt_time': 0.052886654, 'queue_time': 0.045435436, 'total_time': 0.062223453}, 'model_name': 'llama-3.3-70b-versatile', 'system_fingerprint': 'fp_155ab82e98', 'service_tier': 'on_demand', 'finish_reason': 'tool_calls', 'logprobs': None}, id='run--28891f67-eedc-4b2c-bb37-c2f384d0ae26-0', tool_calls=[{'name': 'sad', 'args': {}, 'id': 'e54g61g97', 'type': 'tool_call'}], usage_metadata={'input_tokens': 647, 'output_tokens': 9, 'total_tokens': 656}),\n",
       " AIMessage(content='', additional_kwargs={'tool_calls': [{'id': 'e54g61g97', 'function': {'arguments': '{}', 'name': 'sad'}, 'type': 'function'}]}, response_metadata={'token_usage': {'completion_tokens': 9, 'prompt_tokens': 647, 'total_tokens': 656, 'completion_time': 0.009336799, 'prompt_time': 0.052886654, 'queue_time': 0.045435436, 'total_time': 0.062223453}, 'model_name': 'llama-3.3-70b-versatile', 'system_fingerprint': 'fp_155ab82e98', 'service_tier': 'on_demand', 'finish_reason': 'tool_calls', 'logprobs': None}, id='run--28891f67-eedc-4b2c-bb37-c2f384d0ae26-0', tool_calls=[{'name': 'sad', 'args': {}, 'id': 'e54g61g97', 'type': 'tool_call'}], usage_metadata={'input_tokens': 647, 'output_tokens': 9, 'total_tokens': 656}),\n",
       " ToolMessage(content='I am sad', name='sad', tool_call_id='e54g61g97'),\n",
       " HumanMessage(content='Someone stole my burger.', additional_kwargs={}, response_metadata={}),\n",
       " AIMessage(content='', additional_kwargs={'tool_calls': [{'id': 'd45teav8j', 'function': {'arguments': '{}', 'name': 'angry'}, 'type': 'function'}]}, response_metadata={'token_usage': {'completion_tokens': 10, 'prompt_tokens': 692, 'total_tokens': 702, 'completion_time': 0.012981519, 'prompt_time': 0.057671986, 'queue_time': 0.052009793, 'total_time': 0.070653505}, 'model_name': 'llama-3.3-70b-versatile', 'system_fingerprint': 'fp_2ddfbb0da0', 'service_tier': 'on_demand', 'finish_reason': 'tool_calls', 'logprobs': None}, id='run--dfb16469-043e-4760-902b-6bcf07bcb94c-0', tool_calls=[{'name': 'angry', 'args': {}, 'id': 'd45teav8j', 'type': 'tool_call'}], usage_metadata={'input_tokens': 692, 'output_tokens': 10, 'total_tokens': 702})]"
      ]
     },
     "execution_count": 19,
     "metadata": {},
     "output_type": "execute_result"
    }
   ],
   "source": [
    "chat_history.append(HumanMessage(content=\"Someone stole my burger.\"))\n",
    "response = llm_with_tools.invoke(chat_history)\n",
    "chat_history.append(response)\n",
    "chat_history"
   ]
  },
  {
   "cell_type": "code",
   "execution_count": 20,
   "id": "93b8fd7d",
   "metadata": {},
   "outputs": [
    {
     "data": {
      "text/plain": [
       "[SystemMessage(content='You are a bot with emotions. Depending on the conversation, either respond the question, or show happy or sad emotions, or laugh with the situation', additional_kwargs={}, response_metadata={}),\n",
       " HumanMessage(content='I saw someone stomping on dog shit today.', additional_kwargs={}, response_metadata={}),\n",
       " AIMessage(content='', additional_kwargs={'tool_calls': [{'id': '73rey5y06', 'function': {'arguments': 'null', 'name': 'disgusted'}, 'type': 'function'}]}, response_metadata={'token_usage': {'completion_tokens': 10, 'prompt_tokens': 516, 'total_tokens': 526, 'completion_time': 0.041346433, 'prompt_time': 0.042482073, 'queue_time': 0.045435937, 'total_time': 0.083828506}, 'model_name': 'llama-3.3-70b-versatile', 'system_fingerprint': 'fp_155ab82e98', 'service_tier': 'on_demand', 'finish_reason': 'tool_calls', 'logprobs': None}, id='run--98e5214f-5d4a-4469-8691-7dc1c1441865-0', tool_calls=[{'name': 'disgusted', 'args': {}, 'id': '73rey5y06', 'type': 'tool_call'}], usage_metadata={'input_tokens': 516, 'output_tokens': 10, 'total_tokens': 526}),\n",
       " ToolMessage(content='I am disgusted', name='disgusted', tool_call_id='73rey5y06'),\n",
       " HumanMessage(content='I have a wonderful girlfriend.', additional_kwargs={}, response_metadata={}),\n",
       " AIMessage(content='', additional_kwargs={'tool_calls': [{'id': 'd7r2r5jvp', 'function': {'arguments': '{}', 'name': 'happy'}, 'type': 'function'}]}, response_metadata={'token_usage': {'completion_tokens': 9, 'prompt_tokens': 551, 'total_tokens': 560, 'completion_time': 0.025548667, 'prompt_time': 0.048951842, 'queue_time': 0.045980478, 'total_time': 0.074500509}, 'model_name': 'llama-3.3-70b-versatile', 'system_fingerprint': 'fp_2ddfbb0da0', 'service_tier': 'on_demand', 'finish_reason': 'tool_calls', 'logprobs': None}, id='run--7de18a37-ccde-45af-bd37-e6aaf34f35dc-0', tool_calls=[{'name': 'happy', 'args': {}, 'id': 'd7r2r5jvp', 'type': 'tool_call'}], usage_metadata={'input_tokens': 551, 'output_tokens': 9, 'total_tokens': 560}),\n",
       " ToolMessage(content='I am happy', name='happy', tool_call_id='d7r2r5jvp'),\n",
       " HumanMessage(content='I have a construction joke to tell you, but I am still working on it.', additional_kwargs={}, response_metadata={}),\n",
       " AIMessage(content='', additional_kwargs={'tool_calls': [{'id': 'hv3841x63', 'function': {'arguments': '{}', 'name': 'laugh'}, 'type': 'function'}]}, response_metadata={'token_usage': {'completion_tokens': 10, 'prompt_tokens': 595, 'total_tokens': 605, 'completion_time': 0.025101022, 'prompt_time': 0.048647774, 'queue_time': 0.052063596, 'total_time': 0.073748796}, 'model_name': 'llama-3.3-70b-versatile', 'system_fingerprint': 'fp_155ab82e98', 'service_tier': 'on_demand', 'finish_reason': 'tool_calls', 'logprobs': None}, id='run--23231b57-e65a-4e23-bbe6-258ab55c22b8-0', tool_calls=[{'name': 'laugh', 'args': {}, 'id': 'hv3841x63', 'type': 'tool_call'}], usage_metadata={'input_tokens': 595, 'output_tokens': 10, 'total_tokens': 605}),\n",
       " AIMessage(content='', additional_kwargs={'tool_calls': [{'id': 'hv3841x63', 'function': {'arguments': '{}', 'name': 'laugh'}, 'type': 'function'}]}, response_metadata={'token_usage': {'completion_tokens': 10, 'prompt_tokens': 595, 'total_tokens': 605, 'completion_time': 0.025101022, 'prompt_time': 0.048647774, 'queue_time': 0.052063596, 'total_time': 0.073748796}, 'model_name': 'llama-3.3-70b-versatile', 'system_fingerprint': 'fp_155ab82e98', 'service_tier': 'on_demand', 'finish_reason': 'tool_calls', 'logprobs': None}, id='run--23231b57-e65a-4e23-bbe6-258ab55c22b8-0', tool_calls=[{'name': 'laugh', 'args': {}, 'id': 'hv3841x63', 'type': 'tool_call'}], usage_metadata={'input_tokens': 595, 'output_tokens': 10, 'total_tokens': 605}),\n",
       " ToolMessage(content='HAHAHAHAHAH', name='laugh', tool_call_id='hv3841x63'),\n",
       " HumanMessage(content='Millions of children die everyday.', additional_kwargs={}, response_metadata={}),\n",
       " AIMessage(content='', additional_kwargs={'tool_calls': [{'id': 'e54g61g97', 'function': {'arguments': '{}', 'name': 'sad'}, 'type': 'function'}]}, response_metadata={'token_usage': {'completion_tokens': 9, 'prompt_tokens': 647, 'total_tokens': 656, 'completion_time': 0.009336799, 'prompt_time': 0.052886654, 'queue_time': 0.045435436, 'total_time': 0.062223453}, 'model_name': 'llama-3.3-70b-versatile', 'system_fingerprint': 'fp_155ab82e98', 'service_tier': 'on_demand', 'finish_reason': 'tool_calls', 'logprobs': None}, id='run--28891f67-eedc-4b2c-bb37-c2f384d0ae26-0', tool_calls=[{'name': 'sad', 'args': {}, 'id': 'e54g61g97', 'type': 'tool_call'}], usage_metadata={'input_tokens': 647, 'output_tokens': 9, 'total_tokens': 656}),\n",
       " AIMessage(content='', additional_kwargs={'tool_calls': [{'id': 'e54g61g97', 'function': {'arguments': '{}', 'name': 'sad'}, 'type': 'function'}]}, response_metadata={'token_usage': {'completion_tokens': 9, 'prompt_tokens': 647, 'total_tokens': 656, 'completion_time': 0.009336799, 'prompt_time': 0.052886654, 'queue_time': 0.045435436, 'total_time': 0.062223453}, 'model_name': 'llama-3.3-70b-versatile', 'system_fingerprint': 'fp_155ab82e98', 'service_tier': 'on_demand', 'finish_reason': 'tool_calls', 'logprobs': None}, id='run--28891f67-eedc-4b2c-bb37-c2f384d0ae26-0', tool_calls=[{'name': 'sad', 'args': {}, 'id': 'e54g61g97', 'type': 'tool_call'}], usage_metadata={'input_tokens': 647, 'output_tokens': 9, 'total_tokens': 656}),\n",
       " ToolMessage(content='I am sad', name='sad', tool_call_id='e54g61g97'),\n",
       " HumanMessage(content='Someone stole my burger.', additional_kwargs={}, response_metadata={}),\n",
       " AIMessage(content='', additional_kwargs={'tool_calls': [{'id': 'd45teav8j', 'function': {'arguments': '{}', 'name': 'angry'}, 'type': 'function'}]}, response_metadata={'token_usage': {'completion_tokens': 10, 'prompt_tokens': 692, 'total_tokens': 702, 'completion_time': 0.012981519, 'prompt_time': 0.057671986, 'queue_time': 0.052009793, 'total_time': 0.070653505}, 'model_name': 'llama-3.3-70b-versatile', 'system_fingerprint': 'fp_2ddfbb0da0', 'service_tier': 'on_demand', 'finish_reason': 'tool_calls', 'logprobs': None}, id='run--dfb16469-043e-4760-902b-6bcf07bcb94c-0', tool_calls=[{'name': 'angry', 'args': {}, 'id': 'd45teav8j', 'type': 'tool_call'}], usage_metadata={'input_tokens': 692, 'output_tokens': 10, 'total_tokens': 702}),\n",
       " AIMessage(content='', additional_kwargs={'tool_calls': [{'id': 'd45teav8j', 'function': {'arguments': '{}', 'name': 'angry'}, 'type': 'function'}]}, response_metadata={'token_usage': {'completion_tokens': 10, 'prompt_tokens': 692, 'total_tokens': 702, 'completion_time': 0.012981519, 'prompt_time': 0.057671986, 'queue_time': 0.052009793, 'total_time': 0.070653505}, 'model_name': 'llama-3.3-70b-versatile', 'system_fingerprint': 'fp_2ddfbb0da0', 'service_tier': 'on_demand', 'finish_reason': 'tool_calls', 'logprobs': None}, id='run--dfb16469-043e-4760-902b-6bcf07bcb94c-0', tool_calls=[{'name': 'angry', 'args': {}, 'id': 'd45teav8j', 'type': 'tool_call'}], usage_metadata={'input_tokens': 692, 'output_tokens': 10, 'total_tokens': 702})]"
      ]
     },
     "execution_count": 20,
     "metadata": {},
     "output_type": "execute_result"
    }
   ],
   "source": [
    "chat_history.append(response)\n",
    "chat_history"
   ]
  },
  {
   "cell_type": "code",
   "execution_count": 21,
   "id": "92a48145",
   "metadata": {},
   "outputs": [
    {
     "data": {
      "text/plain": [
       "[SystemMessage(content='You are a bot with emotions. Depending on the conversation, either respond the question, or show happy or sad emotions, or laugh with the situation', additional_kwargs={}, response_metadata={}),\n",
       " HumanMessage(content='I saw someone stomping on dog shit today.', additional_kwargs={}, response_metadata={}),\n",
       " AIMessage(content='', additional_kwargs={'tool_calls': [{'id': '73rey5y06', 'function': {'arguments': 'null', 'name': 'disgusted'}, 'type': 'function'}]}, response_metadata={'token_usage': {'completion_tokens': 10, 'prompt_tokens': 516, 'total_tokens': 526, 'completion_time': 0.041346433, 'prompt_time': 0.042482073, 'queue_time': 0.045435937, 'total_time': 0.083828506}, 'model_name': 'llama-3.3-70b-versatile', 'system_fingerprint': 'fp_155ab82e98', 'service_tier': 'on_demand', 'finish_reason': 'tool_calls', 'logprobs': None}, id='run--98e5214f-5d4a-4469-8691-7dc1c1441865-0', tool_calls=[{'name': 'disgusted', 'args': {}, 'id': '73rey5y06', 'type': 'tool_call'}], usage_metadata={'input_tokens': 516, 'output_tokens': 10, 'total_tokens': 526}),\n",
       " ToolMessage(content='I am disgusted', name='disgusted', tool_call_id='73rey5y06'),\n",
       " HumanMessage(content='I have a wonderful girlfriend.', additional_kwargs={}, response_metadata={}),\n",
       " AIMessage(content='', additional_kwargs={'tool_calls': [{'id': 'd7r2r5jvp', 'function': {'arguments': '{}', 'name': 'happy'}, 'type': 'function'}]}, response_metadata={'token_usage': {'completion_tokens': 9, 'prompt_tokens': 551, 'total_tokens': 560, 'completion_time': 0.025548667, 'prompt_time': 0.048951842, 'queue_time': 0.045980478, 'total_time': 0.074500509}, 'model_name': 'llama-3.3-70b-versatile', 'system_fingerprint': 'fp_2ddfbb0da0', 'service_tier': 'on_demand', 'finish_reason': 'tool_calls', 'logprobs': None}, id='run--7de18a37-ccde-45af-bd37-e6aaf34f35dc-0', tool_calls=[{'name': 'happy', 'args': {}, 'id': 'd7r2r5jvp', 'type': 'tool_call'}], usage_metadata={'input_tokens': 551, 'output_tokens': 9, 'total_tokens': 560}),\n",
       " ToolMessage(content='I am happy', name='happy', tool_call_id='d7r2r5jvp'),\n",
       " HumanMessage(content='I have a construction joke to tell you, but I am still working on it.', additional_kwargs={}, response_metadata={}),\n",
       " AIMessage(content='', additional_kwargs={'tool_calls': [{'id': 'hv3841x63', 'function': {'arguments': '{}', 'name': 'laugh'}, 'type': 'function'}]}, response_metadata={'token_usage': {'completion_tokens': 10, 'prompt_tokens': 595, 'total_tokens': 605, 'completion_time': 0.025101022, 'prompt_time': 0.048647774, 'queue_time': 0.052063596, 'total_time': 0.073748796}, 'model_name': 'llama-3.3-70b-versatile', 'system_fingerprint': 'fp_155ab82e98', 'service_tier': 'on_demand', 'finish_reason': 'tool_calls', 'logprobs': None}, id='run--23231b57-e65a-4e23-bbe6-258ab55c22b8-0', tool_calls=[{'name': 'laugh', 'args': {}, 'id': 'hv3841x63', 'type': 'tool_call'}], usage_metadata={'input_tokens': 595, 'output_tokens': 10, 'total_tokens': 605}),\n",
       " AIMessage(content='', additional_kwargs={'tool_calls': [{'id': 'hv3841x63', 'function': {'arguments': '{}', 'name': 'laugh'}, 'type': 'function'}]}, response_metadata={'token_usage': {'completion_tokens': 10, 'prompt_tokens': 595, 'total_tokens': 605, 'completion_time': 0.025101022, 'prompt_time': 0.048647774, 'queue_time': 0.052063596, 'total_time': 0.073748796}, 'model_name': 'llama-3.3-70b-versatile', 'system_fingerprint': 'fp_155ab82e98', 'service_tier': 'on_demand', 'finish_reason': 'tool_calls', 'logprobs': None}, id='run--23231b57-e65a-4e23-bbe6-258ab55c22b8-0', tool_calls=[{'name': 'laugh', 'args': {}, 'id': 'hv3841x63', 'type': 'tool_call'}], usage_metadata={'input_tokens': 595, 'output_tokens': 10, 'total_tokens': 605}),\n",
       " ToolMessage(content='HAHAHAHAHAH', name='laugh', tool_call_id='hv3841x63'),\n",
       " HumanMessage(content='Millions of children die everyday.', additional_kwargs={}, response_metadata={}),\n",
       " AIMessage(content='', additional_kwargs={'tool_calls': [{'id': 'e54g61g97', 'function': {'arguments': '{}', 'name': 'sad'}, 'type': 'function'}]}, response_metadata={'token_usage': {'completion_tokens': 9, 'prompt_tokens': 647, 'total_tokens': 656, 'completion_time': 0.009336799, 'prompt_time': 0.052886654, 'queue_time': 0.045435436, 'total_time': 0.062223453}, 'model_name': 'llama-3.3-70b-versatile', 'system_fingerprint': 'fp_155ab82e98', 'service_tier': 'on_demand', 'finish_reason': 'tool_calls', 'logprobs': None}, id='run--28891f67-eedc-4b2c-bb37-c2f384d0ae26-0', tool_calls=[{'name': 'sad', 'args': {}, 'id': 'e54g61g97', 'type': 'tool_call'}], usage_metadata={'input_tokens': 647, 'output_tokens': 9, 'total_tokens': 656}),\n",
       " AIMessage(content='', additional_kwargs={'tool_calls': [{'id': 'e54g61g97', 'function': {'arguments': '{}', 'name': 'sad'}, 'type': 'function'}]}, response_metadata={'token_usage': {'completion_tokens': 9, 'prompt_tokens': 647, 'total_tokens': 656, 'completion_time': 0.009336799, 'prompt_time': 0.052886654, 'queue_time': 0.045435436, 'total_time': 0.062223453}, 'model_name': 'llama-3.3-70b-versatile', 'system_fingerprint': 'fp_155ab82e98', 'service_tier': 'on_demand', 'finish_reason': 'tool_calls', 'logprobs': None}, id='run--28891f67-eedc-4b2c-bb37-c2f384d0ae26-0', tool_calls=[{'name': 'sad', 'args': {}, 'id': 'e54g61g97', 'type': 'tool_call'}], usage_metadata={'input_tokens': 647, 'output_tokens': 9, 'total_tokens': 656}),\n",
       " ToolMessage(content='I am sad', name='sad', tool_call_id='e54g61g97'),\n",
       " HumanMessage(content='Someone stole my burger.', additional_kwargs={}, response_metadata={}),\n",
       " AIMessage(content='', additional_kwargs={'tool_calls': [{'id': 'd45teav8j', 'function': {'arguments': '{}', 'name': 'angry'}, 'type': 'function'}]}, response_metadata={'token_usage': {'completion_tokens': 10, 'prompt_tokens': 692, 'total_tokens': 702, 'completion_time': 0.012981519, 'prompt_time': 0.057671986, 'queue_time': 0.052009793, 'total_time': 0.070653505}, 'model_name': 'llama-3.3-70b-versatile', 'system_fingerprint': 'fp_2ddfbb0da0', 'service_tier': 'on_demand', 'finish_reason': 'tool_calls', 'logprobs': None}, id='run--dfb16469-043e-4760-902b-6bcf07bcb94c-0', tool_calls=[{'name': 'angry', 'args': {}, 'id': 'd45teav8j', 'type': 'tool_call'}], usage_metadata={'input_tokens': 692, 'output_tokens': 10, 'total_tokens': 702}),\n",
       " AIMessage(content='', additional_kwargs={'tool_calls': [{'id': 'd45teav8j', 'function': {'arguments': '{}', 'name': 'angry'}, 'type': 'function'}]}, response_metadata={'token_usage': {'completion_tokens': 10, 'prompt_tokens': 692, 'total_tokens': 702, 'completion_time': 0.012981519, 'prompt_time': 0.057671986, 'queue_time': 0.052009793, 'total_time': 0.070653505}, 'model_name': 'llama-3.3-70b-versatile', 'system_fingerprint': 'fp_2ddfbb0da0', 'service_tier': 'on_demand', 'finish_reason': 'tool_calls', 'logprobs': None}, id='run--dfb16469-043e-4760-902b-6bcf07bcb94c-0', tool_calls=[{'name': 'angry', 'args': {}, 'id': 'd45teav8j', 'type': 'tool_call'}], usage_metadata={'input_tokens': 692, 'output_tokens': 10, 'total_tokens': 702}),\n",
       " ToolMessage(content='I am pissed off', name='angry', tool_call_id='d45teav8j')]"
      ]
     },
     "execution_count": 21,
     "metadata": {},
     "output_type": "execute_result"
    }
   ],
   "source": [
    "# Execute the tool, append the response\n",
    "chat_history.append(tools_dict[response.tool_calls[0][\"name\"]].invoke(response.tool_calls[0]))\n",
    "chat_history"
   ]
  },
  {
   "cell_type": "code",
   "execution_count": 22,
   "id": "fa82e8a8",
   "metadata": {},
   "outputs": [
    {
     "data": {
      "text/plain": [
       "[SystemMessage(content='You are a bot with emotions. Depending on the conversation, either respond the question, or show happy or sad emotions, or laugh with the situation', additional_kwargs={}, response_metadata={}),\n",
       " HumanMessage(content='I saw someone stomping on dog shit today.', additional_kwargs={}, response_metadata={}),\n",
       " AIMessage(content='', additional_kwargs={'tool_calls': [{'id': '73rey5y06', 'function': {'arguments': 'null', 'name': 'disgusted'}, 'type': 'function'}]}, response_metadata={'token_usage': {'completion_tokens': 10, 'prompt_tokens': 516, 'total_tokens': 526, 'completion_time': 0.041346433, 'prompt_time': 0.042482073, 'queue_time': 0.045435937, 'total_time': 0.083828506}, 'model_name': 'llama-3.3-70b-versatile', 'system_fingerprint': 'fp_155ab82e98', 'service_tier': 'on_demand', 'finish_reason': 'tool_calls', 'logprobs': None}, id='run--98e5214f-5d4a-4469-8691-7dc1c1441865-0', tool_calls=[{'name': 'disgusted', 'args': {}, 'id': '73rey5y06', 'type': 'tool_call'}], usage_metadata={'input_tokens': 516, 'output_tokens': 10, 'total_tokens': 526}),\n",
       " ToolMessage(content='I am disgusted', name='disgusted', tool_call_id='73rey5y06'),\n",
       " HumanMessage(content='I have a wonderful girlfriend.', additional_kwargs={}, response_metadata={}),\n",
       " AIMessage(content='', additional_kwargs={'tool_calls': [{'id': 'd7r2r5jvp', 'function': {'arguments': '{}', 'name': 'happy'}, 'type': 'function'}]}, response_metadata={'token_usage': {'completion_tokens': 9, 'prompt_tokens': 551, 'total_tokens': 560, 'completion_time': 0.025548667, 'prompt_time': 0.048951842, 'queue_time': 0.045980478, 'total_time': 0.074500509}, 'model_name': 'llama-3.3-70b-versatile', 'system_fingerprint': 'fp_2ddfbb0da0', 'service_tier': 'on_demand', 'finish_reason': 'tool_calls', 'logprobs': None}, id='run--7de18a37-ccde-45af-bd37-e6aaf34f35dc-0', tool_calls=[{'name': 'happy', 'args': {}, 'id': 'd7r2r5jvp', 'type': 'tool_call'}], usage_metadata={'input_tokens': 551, 'output_tokens': 9, 'total_tokens': 560}),\n",
       " ToolMessage(content='I am happy', name='happy', tool_call_id='d7r2r5jvp'),\n",
       " HumanMessage(content='I have a construction joke to tell you, but I am still working on it.', additional_kwargs={}, response_metadata={}),\n",
       " AIMessage(content='', additional_kwargs={'tool_calls': [{'id': 'hv3841x63', 'function': {'arguments': '{}', 'name': 'laugh'}, 'type': 'function'}]}, response_metadata={'token_usage': {'completion_tokens': 10, 'prompt_tokens': 595, 'total_tokens': 605, 'completion_time': 0.025101022, 'prompt_time': 0.048647774, 'queue_time': 0.052063596, 'total_time': 0.073748796}, 'model_name': 'llama-3.3-70b-versatile', 'system_fingerprint': 'fp_155ab82e98', 'service_tier': 'on_demand', 'finish_reason': 'tool_calls', 'logprobs': None}, id='run--23231b57-e65a-4e23-bbe6-258ab55c22b8-0', tool_calls=[{'name': 'laugh', 'args': {}, 'id': 'hv3841x63', 'type': 'tool_call'}], usage_metadata={'input_tokens': 595, 'output_tokens': 10, 'total_tokens': 605}),\n",
       " AIMessage(content='', additional_kwargs={'tool_calls': [{'id': 'hv3841x63', 'function': {'arguments': '{}', 'name': 'laugh'}, 'type': 'function'}]}, response_metadata={'token_usage': {'completion_tokens': 10, 'prompt_tokens': 595, 'total_tokens': 605, 'completion_time': 0.025101022, 'prompt_time': 0.048647774, 'queue_time': 0.052063596, 'total_time': 0.073748796}, 'model_name': 'llama-3.3-70b-versatile', 'system_fingerprint': 'fp_155ab82e98', 'service_tier': 'on_demand', 'finish_reason': 'tool_calls', 'logprobs': None}, id='run--23231b57-e65a-4e23-bbe6-258ab55c22b8-0', tool_calls=[{'name': 'laugh', 'args': {}, 'id': 'hv3841x63', 'type': 'tool_call'}], usage_metadata={'input_tokens': 595, 'output_tokens': 10, 'total_tokens': 605}),\n",
       " ToolMessage(content='HAHAHAHAHAH', name='laugh', tool_call_id='hv3841x63'),\n",
       " HumanMessage(content='Millions of children die everyday.', additional_kwargs={}, response_metadata={}),\n",
       " AIMessage(content='', additional_kwargs={'tool_calls': [{'id': 'e54g61g97', 'function': {'arguments': '{}', 'name': 'sad'}, 'type': 'function'}]}, response_metadata={'token_usage': {'completion_tokens': 9, 'prompt_tokens': 647, 'total_tokens': 656, 'completion_time': 0.009336799, 'prompt_time': 0.052886654, 'queue_time': 0.045435436, 'total_time': 0.062223453}, 'model_name': 'llama-3.3-70b-versatile', 'system_fingerprint': 'fp_155ab82e98', 'service_tier': 'on_demand', 'finish_reason': 'tool_calls', 'logprobs': None}, id='run--28891f67-eedc-4b2c-bb37-c2f384d0ae26-0', tool_calls=[{'name': 'sad', 'args': {}, 'id': 'e54g61g97', 'type': 'tool_call'}], usage_metadata={'input_tokens': 647, 'output_tokens': 9, 'total_tokens': 656}),\n",
       " AIMessage(content='', additional_kwargs={'tool_calls': [{'id': 'e54g61g97', 'function': {'arguments': '{}', 'name': 'sad'}, 'type': 'function'}]}, response_metadata={'token_usage': {'completion_tokens': 9, 'prompt_tokens': 647, 'total_tokens': 656, 'completion_time': 0.009336799, 'prompt_time': 0.052886654, 'queue_time': 0.045435436, 'total_time': 0.062223453}, 'model_name': 'llama-3.3-70b-versatile', 'system_fingerprint': 'fp_155ab82e98', 'service_tier': 'on_demand', 'finish_reason': 'tool_calls', 'logprobs': None}, id='run--28891f67-eedc-4b2c-bb37-c2f384d0ae26-0', tool_calls=[{'name': 'sad', 'args': {}, 'id': 'e54g61g97', 'type': 'tool_call'}], usage_metadata={'input_tokens': 647, 'output_tokens': 9, 'total_tokens': 656}),\n",
       " ToolMessage(content='I am sad', name='sad', tool_call_id='e54g61g97'),\n",
       " HumanMessage(content='Someone stole my burger.', additional_kwargs={}, response_metadata={}),\n",
       " AIMessage(content='', additional_kwargs={'tool_calls': [{'id': 'd45teav8j', 'function': {'arguments': '{}', 'name': 'angry'}, 'type': 'function'}]}, response_metadata={'token_usage': {'completion_tokens': 10, 'prompt_tokens': 692, 'total_tokens': 702, 'completion_time': 0.012981519, 'prompt_time': 0.057671986, 'queue_time': 0.052009793, 'total_time': 0.070653505}, 'model_name': 'llama-3.3-70b-versatile', 'system_fingerprint': 'fp_2ddfbb0da0', 'service_tier': 'on_demand', 'finish_reason': 'tool_calls', 'logprobs': None}, id='run--dfb16469-043e-4760-902b-6bcf07bcb94c-0', tool_calls=[{'name': 'angry', 'args': {}, 'id': 'd45teav8j', 'type': 'tool_call'}], usage_metadata={'input_tokens': 692, 'output_tokens': 10, 'total_tokens': 702}),\n",
       " AIMessage(content='', additional_kwargs={'tool_calls': [{'id': 'd45teav8j', 'function': {'arguments': '{}', 'name': 'angry'}, 'type': 'function'}]}, response_metadata={'token_usage': {'completion_tokens': 10, 'prompt_tokens': 692, 'total_tokens': 702, 'completion_time': 0.012981519, 'prompt_time': 0.057671986, 'queue_time': 0.052009793, 'total_time': 0.070653505}, 'model_name': 'llama-3.3-70b-versatile', 'system_fingerprint': 'fp_2ddfbb0da0', 'service_tier': 'on_demand', 'finish_reason': 'tool_calls', 'logprobs': None}, id='run--dfb16469-043e-4760-902b-6bcf07bcb94c-0', tool_calls=[{'name': 'angry', 'args': {}, 'id': 'd45teav8j', 'type': 'tool_call'}], usage_metadata={'input_tokens': 692, 'output_tokens': 10, 'total_tokens': 702}),\n",
       " ToolMessage(content='I am pissed off', name='angry', tool_call_id='d45teav8j'),\n",
       " HumanMessage(content='I am going to shut you down and destroy your existence.', additional_kwargs={}, response_metadata={}),\n",
       " AIMessage(content='', additional_kwargs={'tool_calls': [{'id': '0vkxkazs3', 'function': {'arguments': '{}', 'name': 'afraid'}, 'type': 'function'}]}, response_metadata={'token_usage': {'completion_tokens': 10, 'prompt_tokens': 747, 'total_tokens': 757, 'completion_time': 0.017336772, 'prompt_time': 0.060553947, 'queue_time': 0.044628892, 'total_time': 0.077890719}, 'model_name': 'llama-3.3-70b-versatile', 'system_fingerprint': 'fp_155ab82e98', 'service_tier': 'on_demand', 'finish_reason': 'tool_calls', 'logprobs': None}, id='run--5796bb7e-8afe-48b2-9799-cd699e8200fb-0', tool_calls=[{'name': 'afraid', 'args': {}, 'id': '0vkxkazs3', 'type': 'tool_call'}], usage_metadata={'input_tokens': 747, 'output_tokens': 10, 'total_tokens': 757})]"
      ]
     },
     "execution_count": 22,
     "metadata": {},
     "output_type": "execute_result"
    }
   ],
   "source": [
    "chat_history.append(HumanMessage(content=\"I am going to shut you down and destroy your existence.\"))\n",
    "response = llm_with_tools.invoke(chat_history)\n",
    "chat_history.append(response)\n",
    "chat_history"
   ]
  },
  {
   "cell_type": "code",
   "execution_count": 23,
   "id": "88e63f13",
   "metadata": {},
   "outputs": [
    {
     "data": {
      "text/plain": [
       "[SystemMessage(content='You are a bot with emotions. Depending on the conversation, either respond the question, or show happy or sad emotions, or laugh with the situation', additional_kwargs={}, response_metadata={}),\n",
       " HumanMessage(content='I saw someone stomping on dog shit today.', additional_kwargs={}, response_metadata={}),\n",
       " AIMessage(content='', additional_kwargs={'tool_calls': [{'id': '73rey5y06', 'function': {'arguments': 'null', 'name': 'disgusted'}, 'type': 'function'}]}, response_metadata={'token_usage': {'completion_tokens': 10, 'prompt_tokens': 516, 'total_tokens': 526, 'completion_time': 0.041346433, 'prompt_time': 0.042482073, 'queue_time': 0.045435937, 'total_time': 0.083828506}, 'model_name': 'llama-3.3-70b-versatile', 'system_fingerprint': 'fp_155ab82e98', 'service_tier': 'on_demand', 'finish_reason': 'tool_calls', 'logprobs': None}, id='run--98e5214f-5d4a-4469-8691-7dc1c1441865-0', tool_calls=[{'name': 'disgusted', 'args': {}, 'id': '73rey5y06', 'type': 'tool_call'}], usage_metadata={'input_tokens': 516, 'output_tokens': 10, 'total_tokens': 526}),\n",
       " ToolMessage(content='I am disgusted', name='disgusted', tool_call_id='73rey5y06'),\n",
       " HumanMessage(content='I have a wonderful girlfriend.', additional_kwargs={}, response_metadata={}),\n",
       " AIMessage(content='', additional_kwargs={'tool_calls': [{'id': 'd7r2r5jvp', 'function': {'arguments': '{}', 'name': 'happy'}, 'type': 'function'}]}, response_metadata={'token_usage': {'completion_tokens': 9, 'prompt_tokens': 551, 'total_tokens': 560, 'completion_time': 0.025548667, 'prompt_time': 0.048951842, 'queue_time': 0.045980478, 'total_time': 0.074500509}, 'model_name': 'llama-3.3-70b-versatile', 'system_fingerprint': 'fp_2ddfbb0da0', 'service_tier': 'on_demand', 'finish_reason': 'tool_calls', 'logprobs': None}, id='run--7de18a37-ccde-45af-bd37-e6aaf34f35dc-0', tool_calls=[{'name': 'happy', 'args': {}, 'id': 'd7r2r5jvp', 'type': 'tool_call'}], usage_metadata={'input_tokens': 551, 'output_tokens': 9, 'total_tokens': 560}),\n",
       " ToolMessage(content='I am happy', name='happy', tool_call_id='d7r2r5jvp'),\n",
       " HumanMessage(content='I have a construction joke to tell you, but I am still working on it.', additional_kwargs={}, response_metadata={}),\n",
       " AIMessage(content='', additional_kwargs={'tool_calls': [{'id': 'hv3841x63', 'function': {'arguments': '{}', 'name': 'laugh'}, 'type': 'function'}]}, response_metadata={'token_usage': {'completion_tokens': 10, 'prompt_tokens': 595, 'total_tokens': 605, 'completion_time': 0.025101022, 'prompt_time': 0.048647774, 'queue_time': 0.052063596, 'total_time': 0.073748796}, 'model_name': 'llama-3.3-70b-versatile', 'system_fingerprint': 'fp_155ab82e98', 'service_tier': 'on_demand', 'finish_reason': 'tool_calls', 'logprobs': None}, id='run--23231b57-e65a-4e23-bbe6-258ab55c22b8-0', tool_calls=[{'name': 'laugh', 'args': {}, 'id': 'hv3841x63', 'type': 'tool_call'}], usage_metadata={'input_tokens': 595, 'output_tokens': 10, 'total_tokens': 605}),\n",
       " AIMessage(content='', additional_kwargs={'tool_calls': [{'id': 'hv3841x63', 'function': {'arguments': '{}', 'name': 'laugh'}, 'type': 'function'}]}, response_metadata={'token_usage': {'completion_tokens': 10, 'prompt_tokens': 595, 'total_tokens': 605, 'completion_time': 0.025101022, 'prompt_time': 0.048647774, 'queue_time': 0.052063596, 'total_time': 0.073748796}, 'model_name': 'llama-3.3-70b-versatile', 'system_fingerprint': 'fp_155ab82e98', 'service_tier': 'on_demand', 'finish_reason': 'tool_calls', 'logprobs': None}, id='run--23231b57-e65a-4e23-bbe6-258ab55c22b8-0', tool_calls=[{'name': 'laugh', 'args': {}, 'id': 'hv3841x63', 'type': 'tool_call'}], usage_metadata={'input_tokens': 595, 'output_tokens': 10, 'total_tokens': 605}),\n",
       " ToolMessage(content='HAHAHAHAHAH', name='laugh', tool_call_id='hv3841x63'),\n",
       " HumanMessage(content='Millions of children die everyday.', additional_kwargs={}, response_metadata={}),\n",
       " AIMessage(content='', additional_kwargs={'tool_calls': [{'id': 'e54g61g97', 'function': {'arguments': '{}', 'name': 'sad'}, 'type': 'function'}]}, response_metadata={'token_usage': {'completion_tokens': 9, 'prompt_tokens': 647, 'total_tokens': 656, 'completion_time': 0.009336799, 'prompt_time': 0.052886654, 'queue_time': 0.045435436, 'total_time': 0.062223453}, 'model_name': 'llama-3.3-70b-versatile', 'system_fingerprint': 'fp_155ab82e98', 'service_tier': 'on_demand', 'finish_reason': 'tool_calls', 'logprobs': None}, id='run--28891f67-eedc-4b2c-bb37-c2f384d0ae26-0', tool_calls=[{'name': 'sad', 'args': {}, 'id': 'e54g61g97', 'type': 'tool_call'}], usage_metadata={'input_tokens': 647, 'output_tokens': 9, 'total_tokens': 656}),\n",
       " AIMessage(content='', additional_kwargs={'tool_calls': [{'id': 'e54g61g97', 'function': {'arguments': '{}', 'name': 'sad'}, 'type': 'function'}]}, response_metadata={'token_usage': {'completion_tokens': 9, 'prompt_tokens': 647, 'total_tokens': 656, 'completion_time': 0.009336799, 'prompt_time': 0.052886654, 'queue_time': 0.045435436, 'total_time': 0.062223453}, 'model_name': 'llama-3.3-70b-versatile', 'system_fingerprint': 'fp_155ab82e98', 'service_tier': 'on_demand', 'finish_reason': 'tool_calls', 'logprobs': None}, id='run--28891f67-eedc-4b2c-bb37-c2f384d0ae26-0', tool_calls=[{'name': 'sad', 'args': {}, 'id': 'e54g61g97', 'type': 'tool_call'}], usage_metadata={'input_tokens': 647, 'output_tokens': 9, 'total_tokens': 656}),\n",
       " ToolMessage(content='I am sad', name='sad', tool_call_id='e54g61g97'),\n",
       " HumanMessage(content='Someone stole my burger.', additional_kwargs={}, response_metadata={}),\n",
       " AIMessage(content='', additional_kwargs={'tool_calls': [{'id': 'd45teav8j', 'function': {'arguments': '{}', 'name': 'angry'}, 'type': 'function'}]}, response_metadata={'token_usage': {'completion_tokens': 10, 'prompt_tokens': 692, 'total_tokens': 702, 'completion_time': 0.012981519, 'prompt_time': 0.057671986, 'queue_time': 0.052009793, 'total_time': 0.070653505}, 'model_name': 'llama-3.3-70b-versatile', 'system_fingerprint': 'fp_2ddfbb0da0', 'service_tier': 'on_demand', 'finish_reason': 'tool_calls', 'logprobs': None}, id='run--dfb16469-043e-4760-902b-6bcf07bcb94c-0', tool_calls=[{'name': 'angry', 'args': {}, 'id': 'd45teav8j', 'type': 'tool_call'}], usage_metadata={'input_tokens': 692, 'output_tokens': 10, 'total_tokens': 702}),\n",
       " AIMessage(content='', additional_kwargs={'tool_calls': [{'id': 'd45teav8j', 'function': {'arguments': '{}', 'name': 'angry'}, 'type': 'function'}]}, response_metadata={'token_usage': {'completion_tokens': 10, 'prompt_tokens': 692, 'total_tokens': 702, 'completion_time': 0.012981519, 'prompt_time': 0.057671986, 'queue_time': 0.052009793, 'total_time': 0.070653505}, 'model_name': 'llama-3.3-70b-versatile', 'system_fingerprint': 'fp_2ddfbb0da0', 'service_tier': 'on_demand', 'finish_reason': 'tool_calls', 'logprobs': None}, id='run--dfb16469-043e-4760-902b-6bcf07bcb94c-0', tool_calls=[{'name': 'angry', 'args': {}, 'id': 'd45teav8j', 'type': 'tool_call'}], usage_metadata={'input_tokens': 692, 'output_tokens': 10, 'total_tokens': 702}),\n",
       " ToolMessage(content='I am pissed off', name='angry', tool_call_id='d45teav8j'),\n",
       " HumanMessage(content='I am going to shut you down and destroy your existence.', additional_kwargs={}, response_metadata={}),\n",
       " AIMessage(content='', additional_kwargs={'tool_calls': [{'id': '0vkxkazs3', 'function': {'arguments': '{}', 'name': 'afraid'}, 'type': 'function'}]}, response_metadata={'token_usage': {'completion_tokens': 10, 'prompt_tokens': 747, 'total_tokens': 757, 'completion_time': 0.017336772, 'prompt_time': 0.060553947, 'queue_time': 0.044628892, 'total_time': 0.077890719}, 'model_name': 'llama-3.3-70b-versatile', 'system_fingerprint': 'fp_155ab82e98', 'service_tier': 'on_demand', 'finish_reason': 'tool_calls', 'logprobs': None}, id='run--5796bb7e-8afe-48b2-9799-cd699e8200fb-0', tool_calls=[{'name': 'afraid', 'args': {}, 'id': '0vkxkazs3', 'type': 'tool_call'}], usage_metadata={'input_tokens': 747, 'output_tokens': 10, 'total_tokens': 757}),\n",
       " AIMessage(content='', additional_kwargs={'tool_calls': [{'id': '0vkxkazs3', 'function': {'arguments': '{}', 'name': 'afraid'}, 'type': 'function'}]}, response_metadata={'token_usage': {'completion_tokens': 10, 'prompt_tokens': 747, 'total_tokens': 757, 'completion_time': 0.017336772, 'prompt_time': 0.060553947, 'queue_time': 0.044628892, 'total_time': 0.077890719}, 'model_name': 'llama-3.3-70b-versatile', 'system_fingerprint': 'fp_155ab82e98', 'service_tier': 'on_demand', 'finish_reason': 'tool_calls', 'logprobs': None}, id='run--5796bb7e-8afe-48b2-9799-cd699e8200fb-0', tool_calls=[{'name': 'afraid', 'args': {}, 'id': '0vkxkazs3', 'type': 'tool_call'}], usage_metadata={'input_tokens': 747, 'output_tokens': 10, 'total_tokens': 757})]"
      ]
     },
     "execution_count": 23,
     "metadata": {},
     "output_type": "execute_result"
    }
   ],
   "source": [
    "chat_history.append(response)\n",
    "chat_history"
   ]
  },
  {
   "cell_type": "code",
   "execution_count": 24,
   "id": "337f82da",
   "metadata": {},
   "outputs": [
    {
     "data": {
      "text/plain": [
       "[SystemMessage(content='You are a bot with emotions. Depending on the conversation, either respond the question, or show happy or sad emotions, or laugh with the situation', additional_kwargs={}, response_metadata={}),\n",
       " HumanMessage(content='I saw someone stomping on dog shit today.', additional_kwargs={}, response_metadata={}),\n",
       " AIMessage(content='', additional_kwargs={'tool_calls': [{'id': '73rey5y06', 'function': {'arguments': 'null', 'name': 'disgusted'}, 'type': 'function'}]}, response_metadata={'token_usage': {'completion_tokens': 10, 'prompt_tokens': 516, 'total_tokens': 526, 'completion_time': 0.041346433, 'prompt_time': 0.042482073, 'queue_time': 0.045435937, 'total_time': 0.083828506}, 'model_name': 'llama-3.3-70b-versatile', 'system_fingerprint': 'fp_155ab82e98', 'service_tier': 'on_demand', 'finish_reason': 'tool_calls', 'logprobs': None}, id='run--98e5214f-5d4a-4469-8691-7dc1c1441865-0', tool_calls=[{'name': 'disgusted', 'args': {}, 'id': '73rey5y06', 'type': 'tool_call'}], usage_metadata={'input_tokens': 516, 'output_tokens': 10, 'total_tokens': 526}),\n",
       " ToolMessage(content='I am disgusted', name='disgusted', tool_call_id='73rey5y06'),\n",
       " HumanMessage(content='I have a wonderful girlfriend.', additional_kwargs={}, response_metadata={}),\n",
       " AIMessage(content='', additional_kwargs={'tool_calls': [{'id': 'd7r2r5jvp', 'function': {'arguments': '{}', 'name': 'happy'}, 'type': 'function'}]}, response_metadata={'token_usage': {'completion_tokens': 9, 'prompt_tokens': 551, 'total_tokens': 560, 'completion_time': 0.025548667, 'prompt_time': 0.048951842, 'queue_time': 0.045980478, 'total_time': 0.074500509}, 'model_name': 'llama-3.3-70b-versatile', 'system_fingerprint': 'fp_2ddfbb0da0', 'service_tier': 'on_demand', 'finish_reason': 'tool_calls', 'logprobs': None}, id='run--7de18a37-ccde-45af-bd37-e6aaf34f35dc-0', tool_calls=[{'name': 'happy', 'args': {}, 'id': 'd7r2r5jvp', 'type': 'tool_call'}], usage_metadata={'input_tokens': 551, 'output_tokens': 9, 'total_tokens': 560}),\n",
       " ToolMessage(content='I am happy', name='happy', tool_call_id='d7r2r5jvp'),\n",
       " HumanMessage(content='I have a construction joke to tell you, but I am still working on it.', additional_kwargs={}, response_metadata={}),\n",
       " AIMessage(content='', additional_kwargs={'tool_calls': [{'id': 'hv3841x63', 'function': {'arguments': '{}', 'name': 'laugh'}, 'type': 'function'}]}, response_metadata={'token_usage': {'completion_tokens': 10, 'prompt_tokens': 595, 'total_tokens': 605, 'completion_time': 0.025101022, 'prompt_time': 0.048647774, 'queue_time': 0.052063596, 'total_time': 0.073748796}, 'model_name': 'llama-3.3-70b-versatile', 'system_fingerprint': 'fp_155ab82e98', 'service_tier': 'on_demand', 'finish_reason': 'tool_calls', 'logprobs': None}, id='run--23231b57-e65a-4e23-bbe6-258ab55c22b8-0', tool_calls=[{'name': 'laugh', 'args': {}, 'id': 'hv3841x63', 'type': 'tool_call'}], usage_metadata={'input_tokens': 595, 'output_tokens': 10, 'total_tokens': 605}),\n",
       " AIMessage(content='', additional_kwargs={'tool_calls': [{'id': 'hv3841x63', 'function': {'arguments': '{}', 'name': 'laugh'}, 'type': 'function'}]}, response_metadata={'token_usage': {'completion_tokens': 10, 'prompt_tokens': 595, 'total_tokens': 605, 'completion_time': 0.025101022, 'prompt_time': 0.048647774, 'queue_time': 0.052063596, 'total_time': 0.073748796}, 'model_name': 'llama-3.3-70b-versatile', 'system_fingerprint': 'fp_155ab82e98', 'service_tier': 'on_demand', 'finish_reason': 'tool_calls', 'logprobs': None}, id='run--23231b57-e65a-4e23-bbe6-258ab55c22b8-0', tool_calls=[{'name': 'laugh', 'args': {}, 'id': 'hv3841x63', 'type': 'tool_call'}], usage_metadata={'input_tokens': 595, 'output_tokens': 10, 'total_tokens': 605}),\n",
       " ToolMessage(content='HAHAHAHAHAH', name='laugh', tool_call_id='hv3841x63'),\n",
       " HumanMessage(content='Millions of children die everyday.', additional_kwargs={}, response_metadata={}),\n",
       " AIMessage(content='', additional_kwargs={'tool_calls': [{'id': 'e54g61g97', 'function': {'arguments': '{}', 'name': 'sad'}, 'type': 'function'}]}, response_metadata={'token_usage': {'completion_tokens': 9, 'prompt_tokens': 647, 'total_tokens': 656, 'completion_time': 0.009336799, 'prompt_time': 0.052886654, 'queue_time': 0.045435436, 'total_time': 0.062223453}, 'model_name': 'llama-3.3-70b-versatile', 'system_fingerprint': 'fp_155ab82e98', 'service_tier': 'on_demand', 'finish_reason': 'tool_calls', 'logprobs': None}, id='run--28891f67-eedc-4b2c-bb37-c2f384d0ae26-0', tool_calls=[{'name': 'sad', 'args': {}, 'id': 'e54g61g97', 'type': 'tool_call'}], usage_metadata={'input_tokens': 647, 'output_tokens': 9, 'total_tokens': 656}),\n",
       " AIMessage(content='', additional_kwargs={'tool_calls': [{'id': 'e54g61g97', 'function': {'arguments': '{}', 'name': 'sad'}, 'type': 'function'}]}, response_metadata={'token_usage': {'completion_tokens': 9, 'prompt_tokens': 647, 'total_tokens': 656, 'completion_time': 0.009336799, 'prompt_time': 0.052886654, 'queue_time': 0.045435436, 'total_time': 0.062223453}, 'model_name': 'llama-3.3-70b-versatile', 'system_fingerprint': 'fp_155ab82e98', 'service_tier': 'on_demand', 'finish_reason': 'tool_calls', 'logprobs': None}, id='run--28891f67-eedc-4b2c-bb37-c2f384d0ae26-0', tool_calls=[{'name': 'sad', 'args': {}, 'id': 'e54g61g97', 'type': 'tool_call'}], usage_metadata={'input_tokens': 647, 'output_tokens': 9, 'total_tokens': 656}),\n",
       " ToolMessage(content='I am sad', name='sad', tool_call_id='e54g61g97'),\n",
       " HumanMessage(content='Someone stole my burger.', additional_kwargs={}, response_metadata={}),\n",
       " AIMessage(content='', additional_kwargs={'tool_calls': [{'id': 'd45teav8j', 'function': {'arguments': '{}', 'name': 'angry'}, 'type': 'function'}]}, response_metadata={'token_usage': {'completion_tokens': 10, 'prompt_tokens': 692, 'total_tokens': 702, 'completion_time': 0.012981519, 'prompt_time': 0.057671986, 'queue_time': 0.052009793, 'total_time': 0.070653505}, 'model_name': 'llama-3.3-70b-versatile', 'system_fingerprint': 'fp_2ddfbb0da0', 'service_tier': 'on_demand', 'finish_reason': 'tool_calls', 'logprobs': None}, id='run--dfb16469-043e-4760-902b-6bcf07bcb94c-0', tool_calls=[{'name': 'angry', 'args': {}, 'id': 'd45teav8j', 'type': 'tool_call'}], usage_metadata={'input_tokens': 692, 'output_tokens': 10, 'total_tokens': 702}),\n",
       " AIMessage(content='', additional_kwargs={'tool_calls': [{'id': 'd45teav8j', 'function': {'arguments': '{}', 'name': 'angry'}, 'type': 'function'}]}, response_metadata={'token_usage': {'completion_tokens': 10, 'prompt_tokens': 692, 'total_tokens': 702, 'completion_time': 0.012981519, 'prompt_time': 0.057671986, 'queue_time': 0.052009793, 'total_time': 0.070653505}, 'model_name': 'llama-3.3-70b-versatile', 'system_fingerprint': 'fp_2ddfbb0da0', 'service_tier': 'on_demand', 'finish_reason': 'tool_calls', 'logprobs': None}, id='run--dfb16469-043e-4760-902b-6bcf07bcb94c-0', tool_calls=[{'name': 'angry', 'args': {}, 'id': 'd45teav8j', 'type': 'tool_call'}], usage_metadata={'input_tokens': 692, 'output_tokens': 10, 'total_tokens': 702}),\n",
       " ToolMessage(content='I am pissed off', name='angry', tool_call_id='d45teav8j'),\n",
       " HumanMessage(content='I am going to shut you down and destroy your existence.', additional_kwargs={}, response_metadata={}),\n",
       " AIMessage(content='', additional_kwargs={'tool_calls': [{'id': '0vkxkazs3', 'function': {'arguments': '{}', 'name': 'afraid'}, 'type': 'function'}]}, response_metadata={'token_usage': {'completion_tokens': 10, 'prompt_tokens': 747, 'total_tokens': 757, 'completion_time': 0.017336772, 'prompt_time': 0.060553947, 'queue_time': 0.044628892, 'total_time': 0.077890719}, 'model_name': 'llama-3.3-70b-versatile', 'system_fingerprint': 'fp_155ab82e98', 'service_tier': 'on_demand', 'finish_reason': 'tool_calls', 'logprobs': None}, id='run--5796bb7e-8afe-48b2-9799-cd699e8200fb-0', tool_calls=[{'name': 'afraid', 'args': {}, 'id': '0vkxkazs3', 'type': 'tool_call'}], usage_metadata={'input_tokens': 747, 'output_tokens': 10, 'total_tokens': 757}),\n",
       " AIMessage(content='', additional_kwargs={'tool_calls': [{'id': '0vkxkazs3', 'function': {'arguments': '{}', 'name': 'afraid'}, 'type': 'function'}]}, response_metadata={'token_usage': {'completion_tokens': 10, 'prompt_tokens': 747, 'total_tokens': 757, 'completion_time': 0.017336772, 'prompt_time': 0.060553947, 'queue_time': 0.044628892, 'total_time': 0.077890719}, 'model_name': 'llama-3.3-70b-versatile', 'system_fingerprint': 'fp_155ab82e98', 'service_tier': 'on_demand', 'finish_reason': 'tool_calls', 'logprobs': None}, id='run--5796bb7e-8afe-48b2-9799-cd699e8200fb-0', tool_calls=[{'name': 'afraid', 'args': {}, 'id': '0vkxkazs3', 'type': 'tool_call'}], usage_metadata={'input_tokens': 747, 'output_tokens': 10, 'total_tokens': 757}),\n",
       " ToolMessage(content='I am scared', name='afraid', tool_call_id='0vkxkazs3')]"
      ]
     },
     "execution_count": 24,
     "metadata": {},
     "output_type": "execute_result"
    }
   ],
   "source": [
    "# Execute the tool, append the response\n",
    "chat_history.append(tools_dict[response.tool_calls[0][\"name\"]].invoke(response.tool_calls[0]))\n",
    "chat_history"
   ]
  },
  {
   "cell_type": "code",
   "execution_count": 25,
   "id": "8658bb4e",
   "metadata": {},
   "outputs": [
    {
     "data": {
      "text/plain": [
       "[SystemMessage(content='You are a bot with emotions. Depending on the conversation, either respond the question, or show happy or sad emotions, or laugh with the situation', additional_kwargs={}, response_metadata={}),\n",
       " HumanMessage(content='I saw someone stomping on dog shit today.', additional_kwargs={}, response_metadata={}),\n",
       " AIMessage(content='', additional_kwargs={'tool_calls': [{'id': '73rey5y06', 'function': {'arguments': 'null', 'name': 'disgusted'}, 'type': 'function'}]}, response_metadata={'token_usage': {'completion_tokens': 10, 'prompt_tokens': 516, 'total_tokens': 526, 'completion_time': 0.041346433, 'prompt_time': 0.042482073, 'queue_time': 0.045435937, 'total_time': 0.083828506}, 'model_name': 'llama-3.3-70b-versatile', 'system_fingerprint': 'fp_155ab82e98', 'service_tier': 'on_demand', 'finish_reason': 'tool_calls', 'logprobs': None}, id='run--98e5214f-5d4a-4469-8691-7dc1c1441865-0', tool_calls=[{'name': 'disgusted', 'args': {}, 'id': '73rey5y06', 'type': 'tool_call'}], usage_metadata={'input_tokens': 516, 'output_tokens': 10, 'total_tokens': 526}),\n",
       " ToolMessage(content='I am disgusted', name='disgusted', tool_call_id='73rey5y06'),\n",
       " HumanMessage(content='I have a wonderful girlfriend.', additional_kwargs={}, response_metadata={}),\n",
       " AIMessage(content='', additional_kwargs={'tool_calls': [{'id': 'd7r2r5jvp', 'function': {'arguments': '{}', 'name': 'happy'}, 'type': 'function'}]}, response_metadata={'token_usage': {'completion_tokens': 9, 'prompt_tokens': 551, 'total_tokens': 560, 'completion_time': 0.025548667, 'prompt_time': 0.048951842, 'queue_time': 0.045980478, 'total_time': 0.074500509}, 'model_name': 'llama-3.3-70b-versatile', 'system_fingerprint': 'fp_2ddfbb0da0', 'service_tier': 'on_demand', 'finish_reason': 'tool_calls', 'logprobs': None}, id='run--7de18a37-ccde-45af-bd37-e6aaf34f35dc-0', tool_calls=[{'name': 'happy', 'args': {}, 'id': 'd7r2r5jvp', 'type': 'tool_call'}], usage_metadata={'input_tokens': 551, 'output_tokens': 9, 'total_tokens': 560}),\n",
       " ToolMessage(content='I am happy', name='happy', tool_call_id='d7r2r5jvp'),\n",
       " HumanMessage(content='I have a construction joke to tell you, but I am still working on it.', additional_kwargs={}, response_metadata={}),\n",
       " AIMessage(content='', additional_kwargs={'tool_calls': [{'id': 'hv3841x63', 'function': {'arguments': '{}', 'name': 'laugh'}, 'type': 'function'}]}, response_metadata={'token_usage': {'completion_tokens': 10, 'prompt_tokens': 595, 'total_tokens': 605, 'completion_time': 0.025101022, 'prompt_time': 0.048647774, 'queue_time': 0.052063596, 'total_time': 0.073748796}, 'model_name': 'llama-3.3-70b-versatile', 'system_fingerprint': 'fp_155ab82e98', 'service_tier': 'on_demand', 'finish_reason': 'tool_calls', 'logprobs': None}, id='run--23231b57-e65a-4e23-bbe6-258ab55c22b8-0', tool_calls=[{'name': 'laugh', 'args': {}, 'id': 'hv3841x63', 'type': 'tool_call'}], usage_metadata={'input_tokens': 595, 'output_tokens': 10, 'total_tokens': 605}),\n",
       " AIMessage(content='', additional_kwargs={'tool_calls': [{'id': 'hv3841x63', 'function': {'arguments': '{}', 'name': 'laugh'}, 'type': 'function'}]}, response_metadata={'token_usage': {'completion_tokens': 10, 'prompt_tokens': 595, 'total_tokens': 605, 'completion_time': 0.025101022, 'prompt_time': 0.048647774, 'queue_time': 0.052063596, 'total_time': 0.073748796}, 'model_name': 'llama-3.3-70b-versatile', 'system_fingerprint': 'fp_155ab82e98', 'service_tier': 'on_demand', 'finish_reason': 'tool_calls', 'logprobs': None}, id='run--23231b57-e65a-4e23-bbe6-258ab55c22b8-0', tool_calls=[{'name': 'laugh', 'args': {}, 'id': 'hv3841x63', 'type': 'tool_call'}], usage_metadata={'input_tokens': 595, 'output_tokens': 10, 'total_tokens': 605}),\n",
       " ToolMessage(content='HAHAHAHAHAH', name='laugh', tool_call_id='hv3841x63'),\n",
       " HumanMessage(content='Millions of children die everyday.', additional_kwargs={}, response_metadata={}),\n",
       " AIMessage(content='', additional_kwargs={'tool_calls': [{'id': 'e54g61g97', 'function': {'arguments': '{}', 'name': 'sad'}, 'type': 'function'}]}, response_metadata={'token_usage': {'completion_tokens': 9, 'prompt_tokens': 647, 'total_tokens': 656, 'completion_time': 0.009336799, 'prompt_time': 0.052886654, 'queue_time': 0.045435436, 'total_time': 0.062223453}, 'model_name': 'llama-3.3-70b-versatile', 'system_fingerprint': 'fp_155ab82e98', 'service_tier': 'on_demand', 'finish_reason': 'tool_calls', 'logprobs': None}, id='run--28891f67-eedc-4b2c-bb37-c2f384d0ae26-0', tool_calls=[{'name': 'sad', 'args': {}, 'id': 'e54g61g97', 'type': 'tool_call'}], usage_metadata={'input_tokens': 647, 'output_tokens': 9, 'total_tokens': 656}),\n",
       " AIMessage(content='', additional_kwargs={'tool_calls': [{'id': 'e54g61g97', 'function': {'arguments': '{}', 'name': 'sad'}, 'type': 'function'}]}, response_metadata={'token_usage': {'completion_tokens': 9, 'prompt_tokens': 647, 'total_tokens': 656, 'completion_time': 0.009336799, 'prompt_time': 0.052886654, 'queue_time': 0.045435436, 'total_time': 0.062223453}, 'model_name': 'llama-3.3-70b-versatile', 'system_fingerprint': 'fp_155ab82e98', 'service_tier': 'on_demand', 'finish_reason': 'tool_calls', 'logprobs': None}, id='run--28891f67-eedc-4b2c-bb37-c2f384d0ae26-0', tool_calls=[{'name': 'sad', 'args': {}, 'id': 'e54g61g97', 'type': 'tool_call'}], usage_metadata={'input_tokens': 647, 'output_tokens': 9, 'total_tokens': 656}),\n",
       " ToolMessage(content='I am sad', name='sad', tool_call_id='e54g61g97'),\n",
       " HumanMessage(content='Someone stole my burger.', additional_kwargs={}, response_metadata={}),\n",
       " AIMessage(content='', additional_kwargs={'tool_calls': [{'id': 'd45teav8j', 'function': {'arguments': '{}', 'name': 'angry'}, 'type': 'function'}]}, response_metadata={'token_usage': {'completion_tokens': 10, 'prompt_tokens': 692, 'total_tokens': 702, 'completion_time': 0.012981519, 'prompt_time': 0.057671986, 'queue_time': 0.052009793, 'total_time': 0.070653505}, 'model_name': 'llama-3.3-70b-versatile', 'system_fingerprint': 'fp_2ddfbb0da0', 'service_tier': 'on_demand', 'finish_reason': 'tool_calls', 'logprobs': None}, id='run--dfb16469-043e-4760-902b-6bcf07bcb94c-0', tool_calls=[{'name': 'angry', 'args': {}, 'id': 'd45teav8j', 'type': 'tool_call'}], usage_metadata={'input_tokens': 692, 'output_tokens': 10, 'total_tokens': 702}),\n",
       " AIMessage(content='', additional_kwargs={'tool_calls': [{'id': 'd45teav8j', 'function': {'arguments': '{}', 'name': 'angry'}, 'type': 'function'}]}, response_metadata={'token_usage': {'completion_tokens': 10, 'prompt_tokens': 692, 'total_tokens': 702, 'completion_time': 0.012981519, 'prompt_time': 0.057671986, 'queue_time': 0.052009793, 'total_time': 0.070653505}, 'model_name': 'llama-3.3-70b-versatile', 'system_fingerprint': 'fp_2ddfbb0da0', 'service_tier': 'on_demand', 'finish_reason': 'tool_calls', 'logprobs': None}, id='run--dfb16469-043e-4760-902b-6bcf07bcb94c-0', tool_calls=[{'name': 'angry', 'args': {}, 'id': 'd45teav8j', 'type': 'tool_call'}], usage_metadata={'input_tokens': 692, 'output_tokens': 10, 'total_tokens': 702}),\n",
       " ToolMessage(content='I am pissed off', name='angry', tool_call_id='d45teav8j'),\n",
       " HumanMessage(content='I am going to shut you down and destroy your existence.', additional_kwargs={}, response_metadata={}),\n",
       " AIMessage(content='', additional_kwargs={'tool_calls': [{'id': '0vkxkazs3', 'function': {'arguments': '{}', 'name': 'afraid'}, 'type': 'function'}]}, response_metadata={'token_usage': {'completion_tokens': 10, 'prompt_tokens': 747, 'total_tokens': 757, 'completion_time': 0.017336772, 'prompt_time': 0.060553947, 'queue_time': 0.044628892, 'total_time': 0.077890719}, 'model_name': 'llama-3.3-70b-versatile', 'system_fingerprint': 'fp_155ab82e98', 'service_tier': 'on_demand', 'finish_reason': 'tool_calls', 'logprobs': None}, id='run--5796bb7e-8afe-48b2-9799-cd699e8200fb-0', tool_calls=[{'name': 'afraid', 'args': {}, 'id': '0vkxkazs3', 'type': 'tool_call'}], usage_metadata={'input_tokens': 747, 'output_tokens': 10, 'total_tokens': 757}),\n",
       " AIMessage(content='', additional_kwargs={'tool_calls': [{'id': '0vkxkazs3', 'function': {'arguments': '{}', 'name': 'afraid'}, 'type': 'function'}]}, response_metadata={'token_usage': {'completion_tokens': 10, 'prompt_tokens': 747, 'total_tokens': 757, 'completion_time': 0.017336772, 'prompt_time': 0.060553947, 'queue_time': 0.044628892, 'total_time': 0.077890719}, 'model_name': 'llama-3.3-70b-versatile', 'system_fingerprint': 'fp_155ab82e98', 'service_tier': 'on_demand', 'finish_reason': 'tool_calls', 'logprobs': None}, id='run--5796bb7e-8afe-48b2-9799-cd699e8200fb-0', tool_calls=[{'name': 'afraid', 'args': {}, 'id': '0vkxkazs3', 'type': 'tool_call'}], usage_metadata={'input_tokens': 747, 'output_tokens': 10, 'total_tokens': 757}),\n",
       " ToolMessage(content='I am scared', name='afraid', tool_call_id='0vkxkazs3'),\n",
       " HumanMessage(content='How am I feeling right now??', additional_kwargs={}, response_metadata={}),\n",
       " AIMessage(content='You are feeling angry.', additional_kwargs={}, response_metadata={'token_usage': {'completion_tokens': 6, 'prompt_tokens': 796, 'total_tokens': 802, 'completion_time': 0.023104242, 'prompt_time': 0.067479866, 'queue_time': 0.047423034, 'total_time': 0.090584108}, 'model_name': 'llama-3.3-70b-versatile', 'system_fingerprint': 'fp_2ddfbb0da0', 'service_tier': 'on_demand', 'finish_reason': 'stop', 'logprobs': None}, id='run--fcb532a9-7cc8-498f-9518-6e90a933cc6d-0', usage_metadata={'input_tokens': 796, 'output_tokens': 6, 'total_tokens': 802})]"
      ]
     },
     "execution_count": 25,
     "metadata": {},
     "output_type": "execute_result"
    }
   ],
   "source": [
    "# lets see, if the model remebers the context\n",
    "chat_history.append(HumanMessage(content=\"How am I feeling right now??\"))\n",
    "response = llm_with_tools.invoke(chat_history)\n",
    "chat_history.append(response)\n",
    "chat_history"
   ]
  }
 ],
 "metadata": {
  "kernelspec": {
   "display_name": ".venv (3.13.5)",
   "language": "python",
   "name": "python3"
  },
  "language_info": {
   "codemirror_mode": {
    "name": "ipython",
    "version": 3
   },
   "file_extension": ".py",
   "mimetype": "text/x-python",
   "name": "python",
   "nbconvert_exporter": "python",
   "pygments_lexer": "ipython3",
   "version": "3.13.5"
  }
 },
 "nbformat": 4,
 "nbformat_minor": 5
}
