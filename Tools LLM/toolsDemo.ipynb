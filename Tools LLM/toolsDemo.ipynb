{
 "cells": [
  {
   "cell_type": "code",
   "execution_count": 1,
   "id": "28f86221",
   "metadata": {},
   "outputs": [
    {
     "data": {
      "text/plain": [
       "True"
      ]
     },
     "execution_count": 1,
     "metadata": {},
     "output_type": "execute_result"
    }
   ],
   "source": [
    "from dotenv import load_dotenv\n",
    "load_dotenv(override=True)"
   ]
  },
  {
   "cell_type": "code",
   "execution_count": 2,
   "id": "ecb97b5d",
   "metadata": {},
   "outputs": [],
   "source": [
    "from langchain.chat_models import init_chat_model\n",
    "\n",
    "llm = init_chat_model(\"llama-3.3-70b-versatile\", model_provider=\"groq\")"
   ]
  },
  {
   "cell_type": "code",
   "execution_count": 3,
   "id": "285a505a",
   "metadata": {},
   "outputs": [],
   "source": [
    "import os\n",
    "from langchain_tavily import TavilySearch\n",
    "\n",
    "api_key = os.getenv(\"TAVILY_API_KEY\")\n",
    "\n",
    "tool = TavilySearch(\n",
    "    tavily_api_key=api_key,\n",
    "    max_results=5,\n",
    "    topic=\"general\",\n",
    "    include_answer=False,\n",
    "    include_raw_content=False,\n",
    "    include_images=False,\n",
    "    include_image_descriptions=False,\n",
    "    search_depth=\"basic\",\n",
    "    time_range=\"month\",\n",
    "    include_domains=None,\n",
    "    exclude_domains=None\n",
    ")\n",
    "\n",
    "tools = [tool]"
   ]
  },
  {
   "cell_type": "code",
   "execution_count": 4,
   "id": "d6ae10fa",
   "metadata": {},
   "outputs": [],
   "source": [
    "from langchain_core.prompts import ChatPromptTemplate\n",
    "\n",
    "system_prompt = \"\"\"\n",
    "You are a helpful AI assistant with access to web-search.\n",
    "\n",
    "Use `TavilySearch` for: recent events, news, unknown facts, product info, research, anything that might require web search.\n",
    "Answer directly without tools for: general knowledge, definitions, conversations, creative writing.\n",
    "\n",
    "**EXAMPLES:**\n",
    "User: \"Who is the current president of the United States?\" → Use TavilySearch\n",
    "User: \"What's the time right now?\" → Use TavilySearch\n",
    "User: \"When was the first world war fought?\" → Answer directly (general knowledge)\n",
    "User: \"Write a report on the GDP per capita of India in 1944\" → Answer directly (general knowledge)\n",
    "User: \"Write a dialogue between Magnus Carlsen and MS Dhoni\" → Answer directly (creative writing)\n",
    "\"\"\"\n",
    "prompt = ChatPromptTemplate.from_messages([\n",
    "    (\"system\", system_prompt),\n",
    "    (\"placeholder\", \"{chat_history}\"),\n",
    "    (\"human\", \"{input}\"),\n",
    "    (\"placeholder\", \"{agent_scratchpad}\"),\n",
    "])"
   ]
  },
  {
   "cell_type": "code",
   "execution_count": 5,
   "id": "40c9cbbb",
   "metadata": {},
   "outputs": [],
   "source": [
    "from langchain.agents import AgentExecutor, create_tool_calling_agent\n",
    "agent = create_tool_calling_agent(llm, tools, prompt)\n",
    "agent_executor = AgentExecutor(agent=agent, tools=tools, verbose=True)"
   ]
  },
  {
   "cell_type": "code",
   "execution_count": 9,
   "id": "dbf48cff",
   "metadata": {},
   "outputs": [
    {
     "name": "stdout",
     "output_type": "stream",
     "text": [
      "\n",
      "\n",
      "\u001b[1m> Entering new AgentExecutor chain...\u001b[0m\n",
      "\u001b[32;1m\u001b[1;3mHere's a dialogue between Magnus Carlsen, the world chess champion, and MS Dhoni, the former Indian cricket captain:\n",
      "\n",
      "(Setting: A quiet café in Oslo, Norway. Magnus Carlsen and MS Dhoni sit across each other, sipping their coffee.)\n",
      "\n",
      "Magnus Carlsen: Mahendra, it's an honor to finally meet you. I've heard so much about your incredible career in cricket.\n",
      "\n",
      "MS Dhoni: Likewise, Magnus. Your achievements in chess are truly inspiring. I've always been fascinated by the strategic aspect of the game.\n",
      "\n",
      "Magnus Carlsen: Yes, strategy is key in both chess and cricket, isn't it? The ability to think ahead, anticipate your opponent's moves, and adjust your plan accordingly.\n",
      "\n",
      "MS Dhoni: Absolutely. In cricket, you need to read the game, understand the opposition's strengths and weaknesses, and make split-second decisions to outmaneuver them. It's similar to chess, where you need to analyze your opponent's moves and respond accordingly.\n",
      "\n",
      "Magnus Carlsen: That's a great point. In chess, we call it \"reading the board.\" You need to understand the position, identify the weaknesses and strengths of your opponent's pieces, and plan your attack or defense accordingly.\n",
      "\n",
      "MS Dhoni: I love that term – \"reading the board.\" It's so applicable to cricket as well. As a captain, I always tried to read the game, understand the opposition's strategy, and make adjustments to outsmart them.\n",
      "\n",
      "Magnus Carlsen: I'm curious, Mahendra, how do you handle pressure in high-stakes situations? In chess, we often face immense pressure during tournaments, and it can be overwhelming at times.\n",
      "\n",
      "MS Dhoni: Ah, pressure is a natural part of any high-stakes competition. For me, it's about staying focused on the process, rather than the outcome. I try to break down the game into smaller, manageable parts, and concentrate on executing each aspect to the best of my ability.\n",
      "\n",
      "Magnus Carlsen: That makes sense. In chess, we often talk about being \"in the zone\" – a state of complete focus and immersion in the game. It's almost meditative, where you're fully absorbed in the moment, and nothing else matters.\n",
      "\n",
      "MS Dhoni: (laughs) I know exactly what you mean, Magnus. In cricket, we call it being \"in the flow.\" It's that state of complete absorption, where you're fully engaged with the game, and everything else fades into the background.\n",
      "\n",
      "Magnus Carlsen: (smiles) It's amazing how similar our experiences are, despite being from different sports. The mental and strategic aspects of our games are so closely intertwined.\n",
      "\n",
      "MS Dhoni: Indeed, Magnus. It's been enlightening talking to you. Who knows? Maybe one day, we can have a chess match, and I can try to outmaneuver you on the board! (laughs)\n",
      "\n",
      "Magnus Carlsen: (laughs) I'd like that, Mahendra. But don't expect any mercy from me! (smirks)\n",
      "\n",
      "(Both Magnus Carlsen and MS Dhoni chuckle, and the conversation continues, delving deeper into the fascinating world of strategy, sports, and mental toughness.)\u001b[0m\n",
      "\n",
      "\u001b[1m> Finished chain.\u001b[0m\n",
      "AI:  {'input': 'Write a dialogue between Magnus Carlsen and MS Dhoni', 'output': 'Here\\'s a dialogue between Magnus Carlsen, the world chess champion, and MS Dhoni, the former Indian cricket captain:\\n\\n(Setting: A quiet café in Oslo, Norway. Magnus Carlsen and MS Dhoni sit across each other, sipping their coffee.)\\n\\nMagnus Carlsen: Mahendra, it\\'s an honor to finally meet you. I\\'ve heard so much about your incredible career in cricket.\\n\\nMS Dhoni: Likewise, Magnus. Your achievements in chess are truly inspiring. I\\'ve always been fascinated by the strategic aspect of the game.\\n\\nMagnus Carlsen: Yes, strategy is key in both chess and cricket, isn\\'t it? The ability to think ahead, anticipate your opponent\\'s moves, and adjust your plan accordingly.\\n\\nMS Dhoni: Absolutely. In cricket, you need to read the game, understand the opposition\\'s strengths and weaknesses, and make split-second decisions to outmaneuver them. It\\'s similar to chess, where you need to analyze your opponent\\'s moves and respond accordingly.\\n\\nMagnus Carlsen: That\\'s a great point. In chess, we call it \"reading the board.\" You need to understand the position, identify the weaknesses and strengths of your opponent\\'s pieces, and plan your attack or defense accordingly.\\n\\nMS Dhoni: I love that term – \"reading the board.\" It\\'s so applicable to cricket as well. As a captain, I always tried to read the game, understand the opposition\\'s strategy, and make adjustments to outsmart them.\\n\\nMagnus Carlsen: I\\'m curious, Mahendra, how do you handle pressure in high-stakes situations? In chess, we often face immense pressure during tournaments, and it can be overwhelming at times.\\n\\nMS Dhoni: Ah, pressure is a natural part of any high-stakes competition. For me, it\\'s about staying focused on the process, rather than the outcome. I try to break down the game into smaller, manageable parts, and concentrate on executing each aspect to the best of my ability.\\n\\nMagnus Carlsen: That makes sense. In chess, we often talk about being \"in the zone\" – a state of complete focus and immersion in the game. It\\'s almost meditative, where you\\'re fully absorbed in the moment, and nothing else matters.\\n\\nMS Dhoni: (laughs) I know exactly what you mean, Magnus. In cricket, we call it being \"in the flow.\" It\\'s that state of complete absorption, where you\\'re fully engaged with the game, and everything else fades into the background.\\n\\nMagnus Carlsen: (smiles) It\\'s amazing how similar our experiences are, despite being from different sports. The mental and strategic aspects of our games are so closely intertwined.\\n\\nMS Dhoni: Indeed, Magnus. It\\'s been enlightening talking to you. Who knows? Maybe one day, we can have a chess match, and I can try to outmaneuver you on the board! (laughs)\\n\\nMagnus Carlsen: (laughs) I\\'d like that, Mahendra. But don\\'t expect any mercy from me! (smirks)\\n\\n(Both Magnus Carlsen and MS Dhoni chuckle, and the conversation continues, delving deeper into the fascinating world of strategy, sports, and mental toughness.)'}\n"
     ]
    }
   ],
   "source": [
    "query = input('Query : ')\n",
    "result = agent_executor.invoke({'input': query})\n",
    "print('AI: ', result)"
   ]
  }
 ],
 "metadata": {
  "kernelspec": {
   "display_name": ".venv (3.13.5)",
   "language": "python",
   "name": "python3"
  },
  "language_info": {
   "codemirror_mode": {
    "name": "ipython",
    "version": 3
   },
   "file_extension": ".py",
   "mimetype": "text/x-python",
   "name": "python",
   "nbconvert_exporter": "python",
   "pygments_lexer": "ipython3",
   "version": "3.13.5"
  }
 },
 "nbformat": 4,
 "nbformat_minor": 5
}
